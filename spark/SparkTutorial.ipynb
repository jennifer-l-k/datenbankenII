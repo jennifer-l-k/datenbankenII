{
 "cells": [
  {
   "cell_type": "markdown",
   "id": "a5f1fa23",
   "metadata": {},
   "source": [
    "# Spark Tutorial\n",
    "Using: https://spark.apache.org/docs/latest/sql-data-sources-csv.html\n",
    "\n",
    "## Aufgabe 1\n",
    "Erstelle ein kleines Programm, dass die Codezeilen des aktuellen Files ausliest"
   ]
  },
  {
   "cell_type": "code",
   "execution_count": 1,
   "id": "610365dd",
   "metadata": {},
   "outputs": [],
   "source": [
    "# Wir wollen DataFrames nutzen und dafür brauchen wir eine SparkSession\n",
    "# Import SparkSession\n",
    "from pyspark.sql import SparkSession\n",
    "\n",
    "# Create SparkSession\n",
    "spark = SparkSession.builder\\\n",
    "    .master(\"local[1]\")\\\n",
    "    .appName(\"Datenbanken mit Spark\")\\\n",
    "    .getOrCreate() # getOrCreate liefert existierende Session, wenn es schon eine gibt"
   ]
  },
  {
   "cell_type": "code",
   "execution_count": 2,
   "id": "6e21ef24",
   "metadata": {},
   "outputs": [
    {
     "data": {
      "text/html": [
       "\n",
       "            <div>\n",
       "                <p><b>SparkSession - in-memory</b></p>\n",
       "                \n",
       "        <div>\n",
       "            <p><b>SparkContext</b></p>\n",
       "\n",
       "            <p><a href=\"http://e211dd8bfaa3:4040\">Spark UI</a></p>\n",
       "\n",
       "            <dl>\n",
       "              <dt>Version</dt>\n",
       "                <dd><code>v3.3.1</code></dd>\n",
       "              <dt>Master</dt>\n",
       "                <dd><code>local[1]</code></dd>\n",
       "              <dt>AppName</dt>\n",
       "                <dd><code>Datenbanken mit Spark</code></dd>\n",
       "            </dl>\n",
       "        </div>\n",
       "        \n",
       "            </div>\n",
       "        "
      ],
      "text/plain": [
       "<pyspark.sql.session.SparkSession at 0x7f6208bf7580>"
      ]
     },
     "execution_count": 2,
     "metadata": {},
     "output_type": "execute_result"
    }
   ],
   "source": [
    "spark"
   ]
  },
  {
   "cell_type": "code",
   "execution_count": 13,
   "id": "9feec3c1",
   "metadata": {},
   "outputs": [
    {
     "name": "stdout",
     "output_type": "stream",
     "text": [
      "SparkTutorial.ipynb\n",
      "studibier.csv\n",
      "PARSO-CACHE-LOCK\n",
      "4305da1ea25c27fce08bd14001b76fd54fe42a0724bbd5168c76680a56eda5be-bc1435a60242c8b234f9abd81524755d819b9ea7a309f31f8888a73a7996f4e9.pkl\n",
      "4305da1ea25c27fce08bd14001b76fd54fe42a0724bbd5168c76680a56eda5be-228436b9ebba4431fe2c0b886410cb0f7bec9d8800a7dd4c093a9a723ab46113.pkl\n",
      "4305da1ea25c27fce08bd14001b76fd54fe42a0724bbd5168c76680a56eda5be-349f2ce27ea32e4072f92dbeec012d3898ee6ce80aff1962bdd10be515f67b14.pkl\n",
      "4305da1ea25c27fce08bd14001b76fd54fe42a0724bbd5168c76680a56eda5be-162123e7cf80be5fa4925dc8d57ee63a0947eecb4d50441ca42fe4c5f252f0b0.pkl\n",
      "4305da1ea25c27fce08bd14001b76fd54fe42a0724bbd5168c76680a56eda5be-c0e5518771ca845ce421dcd9749d2bd6c0f9b9e8303b0781d5b12f321067407c.pkl\n",
      "4305da1ea25c27fce08bd14001b76fd54fe42a0724bbd5168c76680a56eda5be-1e6f73bfd15e0c88ba3a2f847d3e86b0e93bef06f5b930c57e2d485cdc9004cb.pkl\n",
      "4305da1ea25c27fce08bd14001b76fd54fe42a0724bbd5168c76680a56eda5be-fc45f2959e780fafa5f42aa51b14115ec0f6b1236581ad99b0712a63e463d956.pkl\n",
      "4305da1ea25c27fce08bd14001b76fd54fe42a0724bbd5168c76680a56eda5be-b275a86519180f3ce07192d30cf985cb7a3b773328f984edccfbd1c14f07be47.pkl\n",
      "migrated\n",
      "SparkTutorial-checkpoint.ipynb\n",
      "nbsignatures.db\n",
      "notebook_secret\n",
      "kernel-214f1cf0-a628-4e2d-86ff-6ef6fddc780f.json\n",
      "nbserver-7-open.html\n",
      "notebook_cookie_secret\n",
      "nbserver-7.json\n",
      "history.sqlite\n",
      "history.sqlite-journal\n",
      "README\n"
     ]
    }
   ],
   "source": [
    "# Inhalt des Directories anschauen\n",
    "import os\n",
    "for subdir, dirs, files in os.walk(\"./\"):\n",
    "    for file in files:\n",
    "        print(file)\n",
    "        \n",
    "# !ls geht schneller "
   ]
  },
  {
   "cell_type": "code",
   "execution_count": 12,
   "id": "0c612047",
   "metadata": {},
   "outputs": [
    {
     "name": "stdout",
     "output_type": "stream",
     "text": [
      "/home/jovyan\n",
      "SparkTutorial.ipynb  studibier.csv\n"
     ]
    }
   ],
   "source": [
    "!pwd\n",
    "!ls"
   ]
  },
  {
   "cell_type": "code",
   "execution_count": 14,
   "id": "2725cad0",
   "metadata": {},
   "outputs": [],
   "source": [
    "# File einlesen\n",
    "textFile = spark.read.text(\"SparkTutorial.ipynb\")"
   ]
  },
  {
   "cell_type": "code",
   "execution_count": 16,
   "id": "11533e5b",
   "metadata": {},
   "outputs": [
    {
     "data": {
      "text/plain": [
       "163"
      ]
     },
     "execution_count": 16,
     "metadata": {},
     "output_type": "execute_result"
    }
   ],
   "source": [
    "# Zählen, wie viele Zeilen im Textfile enthalten sind\n",
    "textFile.count()"
   ]
  },
  {
   "cell_type": "code",
   "execution_count": 17,
   "id": "be30bed9",
   "metadata": {},
   "outputs": [
    {
     "data": {
      "text/plain": [
       "Row(value='{')"
      ]
     },
     "execution_count": 17,
     "metadata": {},
     "output_type": "execute_result"
    }
   ],
   "source": [
    "textFile.first()\n",
    "# Ausgabe der ersten Zeile vom Notebook, siehe nächster Command"
   ]
  },
  {
   "cell_type": "code",
   "execution_count": 18,
   "id": "8a01156f",
   "metadata": {},
   "outputs": [
    {
     "name": "stdout",
     "output_type": "stream",
     "text": [
      "+--------------------+\n",
      "|               value|\n",
      "+--------------------+\n",
      "|                   {|\n",
      "|          \"cells\": [|\n",
      "|                   {|\n",
      "|   \"cell_type\": \"...|\n",
      "|   \"execution_cou...|\n",
      "|   \"id\": \"50c16e5d\",|\n",
      "|     \"metadata\": {},|\n",
      "|      \"outputs\": [],|\n",
      "|         \"source\": [|\n",
      "|    \"# Wir wollen...|\n",
      "|    \"# Import Spa...|\n",
      "|    \"from pyspark...|\n",
      "|               \"\\n\",|\n",
      "|    \"# Create Spa...|\n",
      "|    \"spark = Spar...|\n",
      "|    \"    .master(...|\n",
      "|    \"    .appName...|\n",
      "|    \"    .getOrCr...|\n",
      "|                   ]|\n",
      "|                  },|\n",
      "+--------------------+\n",
      "only showing top 20 rows\n",
      "\n"
     ]
    }
   ],
   "source": [
    "textFile.show()\n",
    "#textFile.show(6)\n",
    "#textFile.head()"
   ]
  },
  {
   "cell_type": "markdown",
   "id": "5db65be4",
   "metadata": {},
   "source": [
    "## Aufgabe 2\n",
    "Lies die .csv Datei *studibier.csv* aus Moodle in Spark ein (und berechne das Durchschnittsalter)"
   ]
  },
  {
   "cell_type": "code",
   "execution_count": 23,
   "id": "53dfaa62",
   "metadata": {},
   "outputs": [],
   "source": [
    "df_sbier = spark.read.csv(\"studibier.csv\")"
   ]
  },
  {
   "cell_type": "code",
   "execution_count": 27,
   "id": "27f669f1",
   "metadata": {},
   "outputs": [
    {
     "name": "stdout",
     "output_type": "stream",
     "text": [
      "+-----------+--------------+------+\n",
      "|        _c0|           _c1|   _c2|\n",
      "+-----------+--------------+------+\n",
      "|       Name| Lieblingsbier| Alter|\n",
      "|      James|        Weizen|    23|\n",
      "|Money Penny|      Brut IPA|    24|\n",
      "|       Lara|         NEIPA|    22|\n",
      "|       Finn|       Chimais|    17|\n",
      "|      Peter|         NEIPA|    16|\n",
      "|       Jane|         NEIPA|    22|\n",
      "+-----------+--------------+------+\n",
      "\n"
     ]
    }
   ],
   "source": [
    "df_sbier.show()"
   ]
  },
  {
   "cell_type": "code",
   "execution_count": 30,
   "id": "1ddd6b34",
   "metadata": {},
   "outputs": [
    {
     "name": "stdout",
     "output_type": "stream",
     "text": [
      "+-----------+--------------+------+\n",
      "|       Name| Lieblingsbier| Alter|\n",
      "+-----------+--------------+------+\n",
      "|      James|        Weizen|    23|\n",
      "|Money Penny|      Brut IPA|    24|\n",
      "|       Lara|         NEIPA|    22|\n",
      "|       Finn|       Chimais|    17|\n",
      "|      Peter|         NEIPA|    16|\n",
      "|       Jane|         NEIPA|    22|\n",
      "+-----------+--------------+------+\n",
      "\n"
     ]
    }
   ],
   "source": [
    "# Header in Column verrutsch\n",
    "df_sbier = spark.read.option(\"header\", \"true\").csv(\"studibier.csv\")\n",
    "df_sbier\n",
    "\n",
    "df_sbier.show()"
   ]
  },
  {
   "cell_type": "code",
   "execution_count": 33,
   "id": "c87fad9a",
   "metadata": {},
   "outputs": [
    {
     "name": "stdout",
     "output_type": "stream",
     "text": [
      "It's a string\n"
     ]
    }
   ],
   "source": [
    "# Datentyp anzeigen\n",
    "df_sbier.dtypes\n",
    "\n",
    "if df_sbier.dtypes[1][1] == \"string\":\n",
    "    print(\"It's a string\")"
   ]
  },
  {
   "cell_type": "code",
   "execution_count": 35,
   "id": "5fb308bb",
   "metadata": {},
   "outputs": [
    {
     "name": "stdout",
     "output_type": "stream",
     "text": [
      "root\n",
      " |-- Name: string (nullable = true)\n",
      " |--  Lieblingsbier: string (nullable = true)\n",
      " |--  Alter: string (nullable = true)\n",
      "\n"
     ]
    }
   ],
   "source": [
    "df_sbier.printSchema()"
   ]
  },
  {
   "cell_type": "code",
   "execution_count": 36,
   "id": "7ba1fbbc",
   "metadata": {},
   "outputs": [
    {
     "data": {
      "text/plain": [
       "DataFrame[Name: string,  Lieblingsbier: string,  Alter: double]"
      ]
     },
     "execution_count": 36,
     "metadata": {},
     "output_type": "execute_result"
    }
   ],
   "source": [
    "df_sbier= spark.read.csv(\"studibier.csv\", header=True, inferSchema=True)\n",
    "df_sbier\n",
    "\n",
    "# inferSchema = Welcher Datentyp wäre angemessen?"
   ]
  },
  {
   "cell_type": "code",
   "execution_count": 38,
   "id": "036e6078",
   "metadata": {},
   "outputs": [
    {
     "name": "stdout",
     "output_type": "stream",
     "text": [
      "+-----------+--------------+------+\n",
      "|       Name| Lieblingsbier| Alter|\n",
      "+-----------+--------------+------+\n",
      "|      James|        Weizen|  23.0|\n",
      "|Money Penny|      Brut IPA|  24.0|\n",
      "|       Lara|         NEIPA|  22.0|\n",
      "|       Finn|       Chimais|  17.0|\n",
      "|      Peter|         NEIPA|  16.0|\n",
      "|       Jane|         NEIPA|  22.0|\n",
      "+-----------+--------------+------+\n",
      "\n"
     ]
    }
   ],
   "source": [
    "df_sbier.show()"
   ]
  },
  {
   "cell_type": "markdown",
   "id": "8b746368",
   "metadata": {},
   "source": [
    "## Columns, Rows"
   ]
  },
  {
   "cell_type": "code",
   "execution_count": 47,
   "id": "097775af",
   "metadata": {},
   "outputs": [
    {
     "data": {
      "text/plain": [
       "['Name', ' Lieblingsbier', ' Alter']"
      ]
     },
     "execution_count": 47,
     "metadata": {},
     "output_type": "execute_result"
    }
   ],
   "source": [
    "df_sbier.columns"
   ]
  },
  {
   "cell_type": "code",
   "execution_count": 49,
   "id": "e4050619",
   "metadata": {},
   "outputs": [
    {
     "name": "stdout",
     "output_type": "stream",
     "text": [
      "+--------------+\n",
      "| Lieblingsbier|\n",
      "+--------------+\n",
      "|       Chimais|\n",
      "|      Brut IPA|\n",
      "|         NEIPA|\n",
      "|        Weizen|\n",
      "+--------------+\n",
      "\n"
     ]
    }
   ],
   "source": [
    "df_sbier.select(\" Lieblingsbier\").distinct().show()"
   ]
  },
  {
   "cell_type": "code",
   "execution_count": 54,
   "id": "da5fb0c0",
   "metadata": {},
   "outputs": [
    {
     "name": "stdout",
     "output_type": "stream",
     "text": [
      "+--------------+-----------+\n",
      "| Lieblingsbier|avg( Alter)|\n",
      "+--------------+-----------+\n",
      "|       Chimais|       17.0|\n",
      "|      Brut IPA|       24.0|\n",
      "|         NEIPA|       20.0|\n",
      "|        Weizen|       23.0|\n",
      "+--------------+-----------+\n",
      "\n"
     ]
    }
   ],
   "source": [
    "#df_sbier.agg({' Alter':'avg'}).show()\n",
    "df_sbier.groupBy(\" Lieblingsbier\").agg({' Alter':'avg'}).show()"
   ]
  },
  {
   "cell_type": "code",
   "execution_count": 55,
   "id": "296a2787",
   "metadata": {},
   "outputs": [
    {
     "name": "stdout",
     "output_type": "stream",
     "text": [
      "+------------------+\n",
      "|        avg(Alter)|\n",
      "+------------------+\n",
      "|20.666666666666668|\n",
      "+------------------+\n",
      "\n"
     ]
    }
   ],
   "source": [
    "# Fixen von Quelldaten\n",
    "df_sbier.withColumnRenamed(\" Alter\", \"Alter\").agg({\"Alter\": \"avg\"}).show()"
   ]
  },
  {
   "cell_type": "code",
   "execution_count": 60,
   "id": "e1067fa9",
   "metadata": {},
   "outputs": [
    {
     "name": "stdout",
     "output_type": "stream",
     "text": [
      "+--------------+------+\n",
      "| Lieblingsbier| Alter|\n",
      "+--------------+------+\n",
      "|         NEIPA|  22.0|\n",
      "|         NEIPA|  16.0|\n",
      "|        Weizen|  23.0|\n",
      "|      Brut IPA|  24.0|\n",
      "|       Chimais|  17.0|\n",
      "+--------------+------+\n",
      "\n"
     ]
    }
   ],
   "source": [
    "#df_sbier.select(\" Lieblingsbier\", \" Alter\").show()\n",
    "df_sbier.select(\" Lieblingsbier\", \" Alter\").distinct().show()\n",
    "# distinct() vergleicht jeder Zeile miteinander"
   ]
  },
  {
   "cell_type": "code",
   "execution_count": 62,
   "id": "679b65f9",
   "metadata": {},
   "outputs": [
    {
     "name": "stdout",
     "output_type": "stream",
     "text": [
      "+-----------+--------------+------+-------------------+----+\n",
      "|       Name| Lieblingsbier| Alter|Alter nach 2 Jahren|Eins|\n",
      "+-----------+--------------+------+-------------------+----+\n",
      "|      James|        Weizen|  23.0|               25.0|   1|\n",
      "|Money Penny|      Brut IPA|  24.0|               26.0|   1|\n",
      "|       Lara|         NEIPA|  22.0|               24.0|   1|\n",
      "|       Finn|       Chimais|  17.0|               19.0|   1|\n",
      "|      Peter|         NEIPA|  16.0|               18.0|   1|\n",
      "|       Jane|         NEIPA|  22.0|               24.0|   1|\n",
      "+-----------+--------------+------+-------------------+----+\n",
      "\n"
     ]
    }
   ],
   "source": [
    "from pyspark.sql.functions import lit\n",
    "df_sbier.withColumn(\"Alter nach 2 Jahren\", df_sbier[\" Alter\"]+2).withColumn(\"Eins\", lit(1)).show()"
   ]
  },
  {
   "cell_type": "code",
   "execution_count": 63,
   "id": "f39d2568",
   "metadata": {},
   "outputs": [
    {
     "data": {
      "text/plain": [
       "[Row(Name='James',  Lieblingsbier=' Weizen',  Alter=23.0),\n",
       " Row(Name='Money Penny',  Lieblingsbier=' Brut IPA',  Alter=24.0),\n",
       " Row(Name='Lara',  Lieblingsbier=' NEIPA',  Alter=22.0),\n",
       " Row(Name='Finn',  Lieblingsbier=' Chimais',  Alter=17.0),\n",
       " Row(Name='Peter',  Lieblingsbier=' NEIPA',  Alter=16.0)]"
      ]
     },
     "execution_count": 63,
     "metadata": {},
     "output_type": "execute_result"
    }
   ],
   "source": [
    "df_sbier.head(5)\n",
    "# Die neuen Spalten davor existierten nur temporär In-Memory\n",
    "# Der Datencode wurde nicht verändert, sondern nur die Ausgabe angepasst"
   ]
  },
  {
   "cell_type": "code",
   "execution_count": 64,
   "id": "2875c496",
   "metadata": {},
   "outputs": [
    {
     "name": "stdout",
     "output_type": "stream",
     "text": [
      "+-----------+--------------+------+-------------------+----+\n",
      "|       Name| Lieblingsbier| Alter|Alter nach 2 Jahren|Eins|\n",
      "+-----------+--------------+------+-------------------+----+\n",
      "|      James|        Weizen|  23.0|               25.0|   1|\n",
      "|Money Penny|      Brut IPA|  24.0|               26.0|   1|\n",
      "|       Lara|         NEIPA|  22.0|               24.0|   1|\n",
      "|       Finn|       Chimais|  17.0|               19.0|   1|\n",
      "|      Peter|         NEIPA|  16.0|               18.0|   1|\n",
      "|       Jane|         NEIPA|  22.0|               24.0|   1|\n",
      "+-----------+--------------+------+-------------------+----+\n",
      "\n"
     ]
    }
   ],
   "source": [
    "df_sbierMitMuell = df_sbier.withColumn(\"Alter nach 2 Jahren\", df_sbier[\" Alter\"]+2).withColumn(\"Eins\", lit(1))\n",
    "df_sbierMitMuell.show()"
   ]
  },
  {
   "cell_type": "code",
   "execution_count": 65,
   "id": "bfc073c7",
   "metadata": {},
   "outputs": [
    {
     "data": {
      "text/plain": [
       "<bound method DataFrame.show of DataFrame[Name: string,  Lieblingsbier: string,  Alter: double, Eins: int]>"
      ]
     },
     "execution_count": 65,
     "metadata": {},
     "output_type": "execute_result"
    }
   ],
   "source": [
    "# .drop() ist ebenfalls nur In-Memory\n",
    "df_sbierMitMuell.drop(\"Alter nach 2 Jahren\").show"
   ]
  },
  {
   "cell_type": "code",
   "execution_count": 66,
   "id": "cce1cb62",
   "metadata": {},
   "outputs": [
    {
     "name": "stdout",
     "output_type": "stream",
     "text": [
      "+-----------+--------------+------+-------------------+----+\n",
      "|       Name| Lieblingsbier| Alter|Alter nach 2 Jahren|Eins|\n",
      "+-----------+--------------+------+-------------------+----+\n",
      "|      James|        Weizen|  23.0|               25.0|   1|\n",
      "|Money Penny|      Brut IPA|  24.0|               26.0|   1|\n",
      "|       Lara|         NEIPA|  22.0|               24.0|   1|\n",
      "|       Finn|       Chimais|  17.0|               19.0|   1|\n",
      "|      Peter|         NEIPA|  16.0|               18.0|   1|\n",
      "|       Jane|         NEIPA|  22.0|               24.0|   1|\n",
      "+-----------+--------------+------+-------------------+----+\n",
      "\n"
     ]
    }
   ],
   "source": [
    "df_sbierMitMuell.show()"
   ]
  },
  {
   "cell_type": "code",
   "execution_count": 85,
   "id": "ce27eda3",
   "metadata": {},
   "outputs": [
    {
     "name": "stdout",
     "output_type": "stream",
     "text": [
      "+-----------+--------------+------+-------------------+----+\n",
      "|       Name| Lieblingsbier| Alter|Alter nach 2 Jahren|Eins|\n",
      "+-----------+--------------+------+-------------------+----+\n",
      "|      James|        Weizen|  23.0|               25.0|   1|\n",
      "|Money Penny|      Brut IPA|  24.0|               26.0|   1|\n",
      "|       Lara|         NEIPA|  22.0|               24.0|   1|\n",
      "|       Finn|       Chimais|  17.0|               19.0|   1|\n",
      "|      Peter|         NEIPA|  16.0|               18.0|   1|\n",
      "|       Jane|         NEIPA|  22.0|               24.0|   1|\n",
      "|      Jenny|          null|  22.0|               24.0|   1|\n",
      "|      Jenny|          null|  null|               24.0|   1|\n",
      "|      Jenny|          null|  null|               null|   1|\n",
      "+-----------+--------------+------+-------------------+----+\n",
      "\n"
     ]
    }
   ],
   "source": [
    "nullWerteDaten = [(\"Jenny\", None, 22.0, 24.0, 1),(\"Jenny\", None, None, 24.0, 1),(\"Jenny\", None, None, None, 1)]\n",
    "nwdSchema = df_sbierMitMuell.schema\n",
    "df_bierWithNull = df_sbierMitMuell.union(spark.createDataFrame(data=nullWerteDaten, schema=nwdSchema))\n",
    "df_bierWithNull.show()"
   ]
  },
  {
   "cell_type": "code",
   "execution_count": 87,
   "id": "567131fe",
   "metadata": {},
   "outputs": [
    {
     "name": "stdout",
     "output_type": "stream",
     "text": [
      "+-----------+--------------+------+-------------------+----+\n",
      "|       Name| Lieblingsbier| Alter|Alter nach 2 Jahren|Eins|\n",
      "+-----------+--------------+------+-------------------+----+\n",
      "|      James|        Weizen|  23.0|               25.0|   1|\n",
      "|Money Penny|      Brut IPA|  24.0|               26.0|   1|\n",
      "|       Lara|         NEIPA|  22.0|               24.0|   1|\n",
      "|       Finn|       Chimais|  17.0|               19.0|   1|\n",
      "|      Peter|         NEIPA|  16.0|               18.0|   1|\n",
      "|       Jane|         NEIPA|  22.0|               24.0|   1|\n",
      "|      Jenny|          null|  22.0|               24.0|   1|\n",
      "|      Jenny|          null|  null|               24.0|   1|\n",
      "|      Jenny|          null|  null|               null|   1|\n",
      "+-----------+--------------+------+-------------------+----+\n",
      "\n",
      "+-----------+--------------+------+-------------------+----+\n",
      "|       Name| Lieblingsbier| Alter|Alter nach 2 Jahren|Eins|\n",
      "+-----------+--------------+------+-------------------+----+\n",
      "|      James|        Weizen|  23.0|               25.0|   1|\n",
      "|Money Penny|      Brut IPA|  24.0|               26.0|   1|\n",
      "|       Lara|         NEIPA|  22.0|               24.0|   1|\n",
      "|       Finn|       Chimais|  17.0|               19.0|   1|\n",
      "|      Peter|         NEIPA|  16.0|               18.0|   1|\n",
      "|       Jane|         NEIPA|  22.0|               24.0|   1|\n",
      "+-----------+--------------+------+-------------------+----+\n",
      "\n"
     ]
    }
   ],
   "source": [
    "df_bierWithNull.show()\n",
    "# Dropen aller Null-Zeilen\n",
    "df_bierWithNull.na.drop(how=\"any\").show()"
   ]
  },
  {
   "cell_type": "code",
   "execution_count": null,
   "id": "3e0b2c57",
   "metadata": {},
   "outputs": [],
   "source": []
  }
 ],
 "metadata": {
  "kernelspec": {
   "display_name": "Python 3 (ipykernel)",
   "language": "python",
   "name": "python3"
  },
  "language_info": {
   "codemirror_mode": {
    "name": "ipython",
    "version": 3
   },
   "file_extension": ".py",
   "mimetype": "text/x-python",
   "name": "python",
   "nbconvert_exporter": "python",
   "pygments_lexer": "ipython3",
   "version": "3.10.8"
  }
 },
 "nbformat": 4,
 "nbformat_minor": 5
}
