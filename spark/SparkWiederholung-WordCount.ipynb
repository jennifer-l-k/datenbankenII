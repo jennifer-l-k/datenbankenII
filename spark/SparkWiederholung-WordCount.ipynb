{
 "cells": [
  {
   "cell_type": "markdown",
   "id": "3fc098ad",
   "metadata": {},
   "source": [
    "# Spark Tutorial - Wiederholung vom 12.12.22"
   ]
  },
  {
   "cell_type": "code",
   "execution_count": 1,
   "id": "8329306a",
   "metadata": {},
   "outputs": [],
   "source": [
    "# Wir wollen DataFrames nutzen und dafür brauchen wir eine SparkSession\n",
    "# Import SparkSession\n",
    "from pyspark.sql import SparkSession\n",
    "\n",
    "# Create SparkSession\n",
    "spark = SparkSession.builder\\\n",
    "    .master(\"local[1]\")\\\n",
    "    .appName(\"Datenbanken mit Spark\")\\\n",
    "    .getOrCreate() # getOrCreate liefert existierende Session, wenn es schon eine gibt"
   ]
  },
  {
   "cell_type": "code",
   "execution_count": 2,
   "id": "f36218a3",
   "metadata": {},
   "outputs": [
    {
     "data": {
      "text/html": [
       "\n",
       "            <div>\n",
       "                <p><b>SparkSession - in-memory</b></p>\n",
       "                \n",
       "        <div>\n",
       "            <p><b>SparkContext</b></p>\n",
       "\n",
       "            <p><a href=\"http://936664aaf5c7:4040\">Spark UI</a></p>\n",
       "\n",
       "            <dl>\n",
       "              <dt>Version</dt>\n",
       "                <dd><code>v3.3.1</code></dd>\n",
       "              <dt>Master</dt>\n",
       "                <dd><code>local[1]</code></dd>\n",
       "              <dt>AppName</dt>\n",
       "                <dd><code>Datenbanken mit Spark</code></dd>\n",
       "            </dl>\n",
       "        </div>\n",
       "        \n",
       "            </div>\n",
       "        "
      ],
      "text/plain": [
       "<pyspark.sql.session.SparkSession at 0x7fa8c48575b0>"
      ]
     },
     "execution_count": 2,
     "metadata": {},
     "output_type": "execute_result"
    }
   ],
   "source": [
    "spark"
   ]
  },
  {
   "cell_type": "code",
   "execution_count": 8,
   "id": "61042a29",
   "metadata": {},
   "outputs": [],
   "source": [
    "# File einlesen\n",
    "frank = spark.read.text(\"../frankenstein.txt\")"
   ]
  },
  {
   "cell_type": "code",
   "execution_count": 11,
   "id": "e7f96965",
   "metadata": {},
   "outputs": [
    {
     "data": {
      "text/plain": [
       "DataFrame[value: string]"
      ]
     },
     "execution_count": 11,
     "metadata": {},
     "output_type": "execute_result"
    }
   ],
   "source": [
    "# Dataframe mit einer Spalte\n",
    "frank"
   ]
  },
  {
   "cell_type": "code",
   "execution_count": 14,
   "id": "b60ba31e",
   "metadata": {},
   "outputs": [
    {
     "name": "stdout",
     "output_type": "stream",
     "text": [
      "root\n",
      " |-- value: string (nullable = true)\n",
      "\n"
     ]
    }
   ],
   "source": [
    "# Explizites Anzeigen des Schemas\n",
    "frank.printSchema()"
   ]
  },
  {
   "cell_type": "code",
   "execution_count": 9,
   "id": "264e2a85",
   "metadata": {},
   "outputs": [
    {
     "name": "stdout",
     "output_type": "stream",
     "text": [
      "+--------------------+\n",
      "|               value|\n",
      "+--------------------+\n",
      "|                    |\n",
      "|Project Gutenberg...|\n",
      "|                    |\n",
      "|This eBook is for...|\n",
      "|almost no restric...|\n",
      "|re-use it under t...|\n",
      "|with this eBook o...|\n",
      "|                    |\n",
      "|                    |\n",
      "| Title: Frankenstein|\n",
      "|       or The Mod...|\n",
      "|                    |\n",
      "|Author: Mary Woll...|\n",
      "|                    |\n",
      "|Release Date: Jun...|\n",
      "|Last updated: Jan...|\n",
      "|                    |\n",
      "|   Language: English|\n",
      "|                    |\n",
      "|Character set enc...|\n",
      "+--------------------+\n",
      "only showing top 20 rows\n",
      "\n"
     ]
    }
   ],
   "source": [
    "frank.show()"
   ]
  },
  {
   "cell_type": "code",
   "execution_count": 10,
   "id": "0d7d0d19",
   "metadata": {},
   "outputs": [
    {
     "data": {
      "text/plain": [
       "7834"
      ]
     },
     "execution_count": 10,
     "metadata": {},
     "output_type": "execute_result"
    }
   ],
   "source": [
    "frank.count()"
   ]
  },
  {
   "cell_type": "code",
   "execution_count": 16,
   "id": "299013dc",
   "metadata": {},
   "outputs": [
    {
     "name": "stdout",
     "output_type": "stream",
     "text": [
      "[('value', 'string')]\n"
     ]
    }
   ],
   "source": [
    "# Array mit Tupeln\n",
    "print(frank.dtypes)"
   ]
  },
  {
   "cell_type": "code",
   "execution_count": 21,
   "id": "7bade4f6",
   "metadata": {},
   "outputs": [
    {
     "name": "stdout",
     "output_type": "stream",
     "text": [
      "Ist das Element == 'string': True\n"
     ]
    }
   ],
   "source": [
    "# Case-Sensitive!\n",
    "print(f\"Ist das Element == 'string': {frank.dtypes[0][1] == 'string'}\")"
   ]
  },
  {
   "cell_type": "code",
   "execution_count": 39,
   "id": "a398bf34",
   "metadata": {},
   "outputs": [
    {
     "name": "stdout",
     "output_type": "stream",
     "text": [
      "+-------------------------------------------------------------------------+\n",
      "|value                                                                    |\n",
      "+-------------------------------------------------------------------------+\n",
      "|                                                                         |\n",
      "|Project Gutenberg's Frankenstein, by Mary Wollstonecraft (Godwin) Shelley|\n",
      "|                                                                         |\n",
      "|This eBook is for the use of anyone anywhere at no cost and with         |\n",
      "|almost no restrictions whatsoever.  You may copy it, give it away or     |\n",
      "|re-use it under the terms of the Project Gutenberg License included      |\n",
      "|with this eBook or online at www.gutenberg.net                           |\n",
      "|                                                                         |\n",
      "|                                                                         |\n",
      "|Title: Frankenstein                                                      |\n",
      "|       or The Modern Prometheus                                          |\n",
      "|                                                                         |\n",
      "|Author: Mary Wollstonecraft (Godwin) Shelley                             |\n",
      "|                                                                         |\n",
      "|Release Date: June 17, 2008 [EBook #84]                                  |\n",
      "|Last updated: January 13, 2018                                           |\n",
      "|                                                                         |\n",
      "|Language: English                                                        |\n",
      "|                                                                         |\n",
      "|Character set encoding: UTF-8                                            |\n",
      "|                                                                         |\n",
      "|*** START OF THIS PROJECT GUTENBERG EBOOK FRANKENSTEIN ***               |\n",
      "|                                                                         |\n",
      "|                                                                         |\n",
      "|                                                                         |\n",
      "|                                                                         |\n",
      "|Produced by Judith Boss, Christy Phillips, Lynn Hanninen,                |\n",
      "|and David Meltzer. HTML version by Al Haines.                            |\n",
      "|Further corrections by Menno de Leeuw.                                   |\n",
      "|                                                                         |\n",
      "|                                                                         |\n",
      "|                                                                         |\n",
      "|Frankenstein;                                                            |\n",
      "|                                                                         |\n",
      "|                                                                         |\n",
      "|or, the Modern Prometheus                                                |\n",
      "|                                                                         |\n",
      "|                                                                         |\n",
      "|                                                                         |\n",
      "|                                                                         |\n",
      "|by                                                                       |\n",
      "|                                                                         |\n",
      "|                                                                         |\n",
      "|Mary Wollstonecraft (Godwin) Shelley                                     |\n",
      "|                                                                         |\n",
      "|                                                                         |\n",
      "|                                                                         |\n",
      "|                                                                         |\n",
      "|                                                                         |\n",
      "|                                                                         |\n",
      "|CONTENTS                                                                 |\n",
      "|                                                                         |\n",
      "|                                                                         |\n",
      "|                                                                         |\n",
      "|                                                                         |\n",
      "|Letter 1                                                                 |\n",
      "|                                                                         |\n",
      "|Letter 2                                                                 |\n",
      "|                                                                         |\n",
      "|Letter 3                                                                 |\n",
      "|                                                                         |\n",
      "|Letter 4                                                                 |\n",
      "|                                                                         |\n",
      "|Chapter 1                                                                |\n",
      "|                                                                         |\n",
      "|Chapter 2                                                                |\n",
      "|                                                                         |\n",
      "|Chapter 3                                                                |\n",
      "|                                                                         |\n",
      "|Chapter 4                                                                |\n",
      "|                                                                         |\n",
      "|Chapter 5                                                                |\n",
      "|                                                                         |\n",
      "|Chapter 6                                                                |\n",
      "|                                                                         |\n",
      "|Chapter 7                                                                |\n",
      "|                                                                         |\n",
      "|Chapter 8                                                                |\n",
      "|                                                                         |\n",
      "|Chapter 9                                                                |\n",
      "|                                                                         |\n",
      "|Chapter 10                                                               |\n",
      "|                                                                         |\n",
      "|Chapter 11                                                               |\n",
      "|                                                                         |\n",
      "|Chapter 12                                                               |\n",
      "|                                                                         |\n",
      "|Chapter 13                                                               |\n",
      "|                                                                         |\n",
      "|Chapter 14                                                               |\n",
      "|                                                                         |\n",
      "|Chapter 15                                                               |\n",
      "|                                                                         |\n",
      "|Chapter 16                                                               |\n",
      "|                                                                         |\n",
      "|Chapter 17                                                               |\n",
      "|                                                                         |\n",
      "|Chapter 18                                                               |\n",
      "|                                                                         |\n",
      "|Chapter 19                                                               |\n",
      "+-------------------------------------------------------------------------+\n",
      "only showing top 100 rows\n",
      "\n"
     ]
    }
   ],
   "source": [
    "# truncate = Abschneiden nach ~20 Zeichen\n",
    "# Zeige die ersten 30 Zeilen (komplett) und deaktiviere das Abschneiden\n",
    "frank.show(100,truncate=False)"
   ]
  },
  {
   "cell_type": "code",
   "execution_count": 38,
   "id": "705b1219",
   "metadata": {},
   "outputs": [
    {
     "name": "stdout",
     "output_type": "stream",
     "text": [
      "+----------------------------------------------------------------------------------+\n",
      "|                                                                             Zeile|\n",
      "+----------------------------------------------------------------------------------+\n",
      "|                                                                                []|\n",
      "|[Project, Gutenberg's, Frankenstein,, by, Mary, Wollstonecraft, (Godwin), Shelley]|\n",
      "|                                                                                []|\n",
      "|   [This, eBook, is, for, the, use, of, anyone, anywhere, at, no, cost, and, with]|\n",
      "|[almost, no, restrictions, whatsoever., , You, may, copy, it,, give, it, away, or]|\n",
      "|   [re-use, it, under, the, terms, of, the, Project, Gutenberg, License, included]|\n",
      "|                            [with, this, eBook, or, online, at, www.gutenberg.net]|\n",
      "|                                                                                []|\n",
      "|                                                                                []|\n",
      "|                                                            [Title:, Frankenstein]|\n",
      "+----------------------------------------------------------------------------------+\n",
      "only showing top 10 rows\n",
      "\n"
     ]
    }
   ],
   "source": [
    "# Die Zeilen in einzelne Worte splitten\n",
    "from pyspark.sql.functions import split\n",
    "# select selektiert eine oder mehrere Spalten, hier eben nur eine Spalte\n",
    "# alias gibt dem Ergebnis (der selektierten Spalte) einen Namen\n",
    "# Die Funktion split nimmt REGEXP... split nach Leerzeichen\n",
    "# Der Datentyp eines split ist ein Array!\n",
    "lines = frank.select(split(frank.value, \" \").alias(\"Zeile\"))\n",
    "lines.show(10, truncate=100)"
   ]
  },
  {
   "cell_type": "code",
   "execution_count": 33,
   "id": "0e831969",
   "metadata": {},
   "outputs": [
    {
     "name": "stdout",
     "output_type": "stream",
     "text": [
      "root\n",
      " |-- Zeile: array (nullable = true)\n",
      " |    |-- element: string (containsNull = false)\n",
      "\n"
     ]
    }
   ],
   "source": [
    "lines.printSchema()"
   ]
  },
  {
   "cell_type": "code",
   "execution_count": 37,
   "id": "7603b07d",
   "metadata": {},
   "outputs": [
    {
     "name": "stdout",
     "output_type": "stream",
     "text": [
      "+----------------------------------------------------------------------------------+\n",
      "|                                                                      ZeileRenamed|\n",
      "+----------------------------------------------------------------------------------+\n",
      "|                                                                                []|\n",
      "|[Project, Gutenberg's, Frankenstein,, by, Mary, Wollstonecraft, (Godwin), Shelley]|\n",
      "|                                                                                []|\n",
      "|   [This, eBook, is, for, the, use, of, anyone, anywhere, at, no, cost, and, with]|\n",
      "|[almost, no, restrictions, whatsoever., , You, may, copy, it,, give, it, away, or]|\n",
      "|   [re-use, it, under, the, terms, of, the, Project, Gutenberg, License, included]|\n",
      "|                            [with, this, eBook, or, online, at, www.gutenberg.net]|\n",
      "|                                                                                []|\n",
      "|                                                                                []|\n",
      "|                                                            [Title:, Frankenstein]|\n",
      "+----------------------------------------------------------------------------------+\n",
      "only showing top 10 rows\n",
      "\n"
     ]
    }
   ],
   "source": [
    "# Eine Alternative zu alias() ist withColumnRenamed\n",
    "#linesWRC = lines.withColumnRenamed(\"Zeile\", \"ZeileRenamed\")\n",
    "#linesWRC.show(10, truncate=100)"
   ]
  },
  {
   "cell_type": "code",
   "execution_count": 46,
   "id": "49337414",
   "metadata": {},
   "outputs": [
    {
     "name": "stdout",
     "output_type": "stream",
     "text": [
      "+-------------------------------------------------------------------------------------+\n",
      "|Zeile                                                                                |\n",
      "+-------------------------------------------------------------------------------------+\n",
      "|[]                                                                                   |\n",
      "|[Project, Gutenberg, s, Frankenstein,, by, Mary, Wollstonecraft, , Godwin, , Shelley]|\n",
      "|[]                                                                                   |\n",
      "|[This, eBook, is, for, the, use, of, anyone, anywhere, at, no, cost, and, with]      |\n",
      "|[almost, no, restrictions, whatsoever, , , You, may, copy, it,, give, it, away, or]  |\n",
      "|[re, use, it, under, the, terms, of, the, Project, Gutenberg, License, included]     |\n",
      "|[with, this, eBook, or, online, at, www, gutenberg, net]                             |\n",
      "|[]                                                                                   |\n",
      "|[]                                                                                   |\n",
      "|[Title, , Frankenstein]                                                              |\n",
      "|[, , , , , , , or, The, Modern, Prometheus]                                          |\n",
      "|[]                                                                                   |\n",
      "|[Author, , Mary, Wollstonecraft, , Godwin, , Shelley]                                |\n",
      "|[]                                                                                   |\n",
      "|[Release, Date, , June, , , ,, , , , , , , EBook, , , , , ]                          |\n",
      "|[Last, updated, , January, , , ,, , , , , ]                                          |\n",
      "|[]                                                                                   |\n",
      "|[Language, , English]                                                                |\n",
      "|[]                                                                                   |\n",
      "|[Character, set, encoding, , UTF, , ]                                                |\n",
      "|[]                                                                                   |\n",
      "|[, , , , START, OF, THIS, PROJECT, GUTENBERG, EBOOK, FRANKENSTEIN, , , , ]           |\n",
      "|[]                                                                                   |\n",
      "|[]                                                                                   |\n",
      "|[]                                                                                   |\n",
      "|[]                                                                                   |\n",
      "|[Produced, by, Judith, Boss,, Christy, Phillips,, Lynn, Hanninen,]                   |\n",
      "|[and, David, Meltzer, , HTML, version, by, Al, Haines, ]                             |\n",
      "|[Further, corrections, by, Menno, de, Leeuw, ]                                       |\n",
      "|[]                                                                                   |\n",
      "|[]                                                                                   |\n",
      "|[]                                                                                   |\n",
      "|[Frankenstein, ]                                                                     |\n",
      "|[]                                                                                   |\n",
      "|[]                                                                                   |\n",
      "|[or,, the, Modern, Prometheus]                                                       |\n",
      "|[]                                                                                   |\n",
      "|[]                                                                                   |\n",
      "|[]                                                                                   |\n",
      "|[]                                                                                   |\n",
      "|[by]                                                                                 |\n",
      "|[]                                                                                   |\n",
      "|[]                                                                                   |\n",
      "|[Mary, Wollstonecraft, , Godwin, , Shelley]                                          |\n",
      "|[]                                                                                   |\n",
      "|[]                                                                                   |\n",
      "|[]                                                                                   |\n",
      "|[]                                                                                   |\n",
      "|[]                                                                                   |\n",
      "|[]                                                                                   |\n",
      "|[CONTENTS]                                                                           |\n",
      "|[]                                                                                   |\n",
      "|[]                                                                                   |\n",
      "|[]                                                                                   |\n",
      "|[]                                                                                   |\n",
      "|[Letter, , ]                                                                         |\n",
      "|[]                                                                                   |\n",
      "|[Letter, , ]                                                                         |\n",
      "|[]                                                                                   |\n",
      "|[Letter, , ]                                                                         |\n",
      "|[]                                                                                   |\n",
      "|[Letter, , ]                                                                         |\n",
      "|[]                                                                                   |\n",
      "|[Chapter, , ]                                                                        |\n",
      "|[]                                                                                   |\n",
      "|[Chapter, , ]                                                                        |\n",
      "|[]                                                                                   |\n",
      "|[Chapter, , ]                                                                        |\n",
      "|[]                                                                                   |\n",
      "|[Chapter, , ]                                                                        |\n",
      "|[]                                                                                   |\n",
      "|[Chapter, , ]                                                                        |\n",
      "|[]                                                                                   |\n",
      "|[Chapter, , ]                                                                        |\n",
      "|[]                                                                                   |\n",
      "|[Chapter, , ]                                                                        |\n",
      "|[]                                                                                   |\n",
      "|[Chapter, , ]                                                                        |\n",
      "|[]                                                                                   |\n",
      "|[Chapter, , ]                                                                        |\n",
      "|[]                                                                                   |\n",
      "|[Chapter, , , ]                                                                      |\n",
      "|[]                                                                                   |\n",
      "|[Chapter, , , ]                                                                      |\n",
      "|[]                                                                                   |\n",
      "|[Chapter, , , ]                                                                      |\n",
      "|[]                                                                                   |\n",
      "|[Chapter, , , ]                                                                      |\n",
      "|[]                                                                                   |\n",
      "|[Chapter, , , ]                                                                      |\n",
      "|[]                                                                                   |\n",
      "|[Chapter, , , ]                                                                      |\n",
      "|[]                                                                                   |\n",
      "|[Chapter, , , ]                                                                      |\n",
      "|[]                                                                                   |\n",
      "|[Chapter, , , ]                                                                      |\n",
      "|[]                                                                                   |\n",
      "|[Chapter, , , ]                                                                      |\n",
      "|[]                                                                                   |\n",
      "|[Chapter, , , ]                                                                      |\n",
      "+-------------------------------------------------------------------------------------+\n",
      "only showing top 100 rows\n",
      "\n"
     ]
    }
   ],
   "source": [
    "# Schritt 1: RegEx anpassen, dass nur Wörter beginnend mit Buchstaben ausgegeben werden.\n",
    "# Zahlen werden ausgeschlossen\n",
    "# Die Buchstaben können Groß- oder Kleingeschrieben sein\n",
    "lines = frank.select(split(frank.value, \"[^a-z,A-Z]\").alias(\"Zeile\"))\n",
    "lines.show(100,truncate=False)"
   ]
  },
  {
   "cell_type": "code",
   "execution_count": 49,
   "id": "9a549876",
   "metadata": {},
   "outputs": [
    {
     "name": "stdout",
     "output_type": "stream",
     "text": [
      "+--------------------+\n",
      "|               Zeile|\n",
      "+--------------------+\n",
      "|                  []|\n",
      "|[Project, Gutenbe...|\n",
      "|                  []|\n",
      "|[This, eBook, is,...|\n",
      "|[almost, no, rest...|\n",
      "|[re, use, it, und...|\n",
      "|[with, this, eBoo...|\n",
      "|                  []|\n",
      "|                  []|\n",
      "|[Title, , Franken...|\n",
      "|[, , , , , , , or...|\n",
      "|                  []|\n",
      "|[Author, , Mary, ...|\n",
      "|                  []|\n",
      "|[Release, Date, ,...|\n",
      "|[Last, updated, ,...|\n",
      "|                  []|\n",
      "|[Language, , Engl...|\n",
      "|                  []|\n",
      "|[Character, set, ...|\n",
      "+--------------------+\n",
      "only showing top 20 rows\n",
      "\n",
      "+--------------------+\n",
      "|               Zeile|\n",
      "+--------------------+\n",
      "|                  []|\n",
      "|[Project, Gutenbe...|\n",
      "|                  []|\n",
      "|[This, eBook, is,...|\n",
      "|[almost, no, rest...|\n",
      "|[re, use, it, und...|\n",
      "|[with, this, eBoo...|\n",
      "|                  []|\n",
      "|                  []|\n",
      "|[Title, , Franken...|\n",
      "|[, , , , , , , or...|\n",
      "|                  []|\n",
      "|[Author, , Mary, ...|\n",
      "|                  []|\n",
      "|[Release, Date, ,...|\n",
      "|[Last, updated, ,...|\n",
      "|                  []|\n",
      "|[Language, , Engl...|\n",
      "|                  []|\n",
      "|[Character, set, ...|\n",
      "+--------------------+\n",
      "only showing top 20 rows\n",
      "\n",
      "+--------------------+\n",
      "|               Zeile|\n",
      "+--------------------+\n",
      "|                  []|\n",
      "|[Project, Gutenbe...|\n",
      "|                  []|\n",
      "|[This, eBook, is,...|\n",
      "|[almost, no, rest...|\n",
      "|[re, use, it, und...|\n",
      "|[with, this, eBoo...|\n",
      "|                  []|\n",
      "|                  []|\n",
      "|[Title, , Franken...|\n",
      "|[, , , , , , , or...|\n",
      "|                  []|\n",
      "|[Author, , Mary, ...|\n",
      "|                  []|\n",
      "|[Release, Date, ,...|\n",
      "|[Last, updated, ,...|\n",
      "|                  []|\n",
      "|[Language, , Engl...|\n",
      "|                  []|\n",
      "|[Character, set, ...|\n",
      "+--------------------+\n",
      "only showing top 20 rows\n",
      "\n",
      "+--------------------+\n",
      "|               Zeile|\n",
      "+--------------------+\n",
      "|                  []|\n",
      "|[Project, Gutenbe...|\n",
      "|                  []|\n",
      "|[This, eBook, is,...|\n",
      "|[almost, no, rest...|\n",
      "|[re, use, it, und...|\n",
      "|[with, this, eBoo...|\n",
      "|                  []|\n",
      "|                  []|\n",
      "|[Title, , Franken...|\n",
      "|[, , , , , , , or...|\n",
      "|                  []|\n",
      "|[Author, , Mary, ...|\n",
      "|                  []|\n",
      "|[Release, Date, ,...|\n",
      "|[Last, updated, ,...|\n",
      "|                  []|\n",
      "|[Language, , Engl...|\n",
      "|                  []|\n",
      "|[Character, set, ...|\n",
      "+--------------------+\n",
      "only showing top 20 rows\n",
      "\n"
     ]
    }
   ],
   "source": [
    "# Spalte selektieren auf diverse Arten und Ausgabe als Dataframe\n",
    "lines.select(lines.Zeile).show()\n",
    "lines.select(\"Zeile\").show()\n",
    "\n",
    "from pyspark.sql.functions import col\n",
    "lines.select(col(\"Zeile\")).show()\n",
    "\n",
    "#Ausgabe von Column, statt Dataframe\n",
    "#lines[\"Zeile\"].show()\n",
    "#Spalte ntuzen, um dann eine Spalte im Dataframe auszuwählen\n",
    "lines.select(lines[\"Zeile\"]).show()\n",
    "\n",
    "# ..."
   ]
  },
  {
   "cell_type": "markdown",
   "id": "2eb2fc39",
   "metadata": {},
   "source": [
    "## Exploding list of words into ROWS (nicht COLS)"
   ]
  },
  {
   "cell_type": "code",
   "execution_count": 73,
   "id": "ae7d6c07",
   "metadata": {},
   "outputs": [
    {
     "name": "stdout",
     "output_type": "stream",
     "text": [
      "+--------------+\n",
      "|words         |\n",
      "+--------------+\n",
      "|              |\n",
      "|Project       |\n",
      "|Gutenberg     |\n",
      "|s             |\n",
      "|Frankenstein, |\n",
      "|by            |\n",
      "|Mary          |\n",
      "|Wollstonecraft|\n",
      "|              |\n",
      "|Godwin        |\n",
      "|              |\n",
      "|Shelley       |\n",
      "|              |\n",
      "|This          |\n",
      "|eBook         |\n",
      "|is            |\n",
      "|for           |\n",
      "|the           |\n",
      "|use           |\n",
      "|of            |\n",
      "|anyone        |\n",
      "|anywhere      |\n",
      "|at            |\n",
      "|no            |\n",
      "|cost          |\n",
      "|and           |\n",
      "|with          |\n",
      "|almost        |\n",
      "|no            |\n",
      "|restrictions  |\n",
      "|whatsoever    |\n",
      "|              |\n",
      "|              |\n",
      "|You           |\n",
      "|may           |\n",
      "|copy          |\n",
      "|it,           |\n",
      "|give          |\n",
      "|it            |\n",
      "|away          |\n",
      "|or            |\n",
      "|re            |\n",
      "|use           |\n",
      "|it            |\n",
      "|under         |\n",
      "|the           |\n",
      "|terms         |\n",
      "|of            |\n",
      "|the           |\n",
      "|Project       |\n",
      "|Gutenberg     |\n",
      "|License       |\n",
      "|included      |\n",
      "|with          |\n",
      "|this          |\n",
      "|eBook         |\n",
      "|or            |\n",
      "|online        |\n",
      "|at            |\n",
      "|www           |\n",
      "|gutenberg     |\n",
      "|net           |\n",
      "|              |\n",
      "|              |\n",
      "|Title         |\n",
      "|              |\n",
      "|Frankenstein  |\n",
      "|              |\n",
      "|              |\n",
      "|              |\n",
      "|              |\n",
      "|              |\n",
      "|              |\n",
      "|              |\n",
      "|or            |\n",
      "|The           |\n",
      "|Modern        |\n",
      "|Prometheus    |\n",
      "|              |\n",
      "|Author        |\n",
      "|              |\n",
      "|Mary          |\n",
      "|Wollstonecraft|\n",
      "|              |\n",
      "|Godwin        |\n",
      "|              |\n",
      "|Shelley       |\n",
      "|              |\n",
      "|Release       |\n",
      "|Date          |\n",
      "|              |\n",
      "|June          |\n",
      "|              |\n",
      "|              |\n",
      "|,             |\n",
      "|              |\n",
      "|              |\n",
      "|              |\n",
      "|              |\n",
      "|              |\n",
      "+--------------+\n",
      "only showing top 100 rows\n",
      "\n"
     ]
    }
   ],
   "source": [
    "# Spark explode = Jedes Element wird zu einer neuen Reihe gemacht\n",
    "# Wieso explode statt Python-Code? - Automatische Zuteilung auf Cluster\n",
    "from pyspark.sql.functions import explode, col\n",
    "words = frank.select(explode(split(frank.value, \"[^a-z,A-Z]\")).alias(\"words\"))\n",
    "words.show(100,truncate=False)"
   ]
  },
  {
   "cell_type": "code",
   "execution_count": 74,
   "id": "f88e8641",
   "metadata": {},
   "outputs": [
    {
     "name": "stdout",
     "output_type": "stream",
     "text": [
      "+--------------+\n",
      "|words_lower   |\n",
      "+--------------+\n",
      "|              |\n",
      "|project       |\n",
      "|gutenberg     |\n",
      "|s             |\n",
      "|frankenstein, |\n",
      "|by            |\n",
      "|mary          |\n",
      "|wollstonecraft|\n",
      "|              |\n",
      "|godwin        |\n",
      "|              |\n",
      "|shelley       |\n",
      "|              |\n",
      "|this          |\n",
      "|ebook         |\n",
      "|is            |\n",
      "|for           |\n",
      "|the           |\n",
      "|use           |\n",
      "|of            |\n",
      "|anyone        |\n",
      "|anywhere      |\n",
      "|at            |\n",
      "|no            |\n",
      "|cost          |\n",
      "|and           |\n",
      "|with          |\n",
      "|almost        |\n",
      "|no            |\n",
      "|restrictions  |\n",
      "|whatsoever    |\n",
      "|              |\n",
      "|              |\n",
      "|you           |\n",
      "|may           |\n",
      "|copy          |\n",
      "|it,           |\n",
      "|give          |\n",
      "|it            |\n",
      "|away          |\n",
      "|or            |\n",
      "|re            |\n",
      "|use           |\n",
      "|it            |\n",
      "|under         |\n",
      "|the           |\n",
      "|terms         |\n",
      "|of            |\n",
      "|the           |\n",
      "|project       |\n",
      "|gutenberg     |\n",
      "|license       |\n",
      "|included      |\n",
      "|with          |\n",
      "|this          |\n",
      "|ebook         |\n",
      "|or            |\n",
      "|online        |\n",
      "|at            |\n",
      "|www           |\n",
      "|gutenberg     |\n",
      "|net           |\n",
      "|              |\n",
      "|              |\n",
      "|title         |\n",
      "|              |\n",
      "|frankenstein  |\n",
      "|              |\n",
      "|              |\n",
      "|              |\n",
      "|              |\n",
      "|              |\n",
      "|              |\n",
      "|              |\n",
      "|or            |\n",
      "|the           |\n",
      "|modern        |\n",
      "|prometheus    |\n",
      "|              |\n",
      "|author        |\n",
      "|              |\n",
      "|mary          |\n",
      "|wollstonecraft|\n",
      "|              |\n",
      "|godwin        |\n",
      "|              |\n",
      "|shelley       |\n",
      "|              |\n",
      "|release       |\n",
      "|date          |\n",
      "|              |\n",
      "|june          |\n",
      "|              |\n",
      "|              |\n",
      "|,             |\n",
      "|              |\n",
      "|              |\n",
      "|              |\n",
      "|              |\n",
      "|              |\n",
      "+--------------+\n",
      "only showing top 100 rows\n",
      "\n"
     ]
    }
   ],
   "source": [
    "from pyspark.sql.functions import lower\n",
    "words_lower = words.select(lower(col(\"words\")).alias(\"words_lower\"))\n",
    "words_lower.show(100,truncate=False)"
   ]
  },
  {
   "cell_type": "code",
   "execution_count": 77,
   "id": "d0762d9d",
   "metadata": {},
   "outputs": [
    {
     "name": "stdout",
     "output_type": "stream",
     "text": [
      "+--------------+\n",
      "|words_nonempty|\n",
      "+--------------+\n",
      "|              |\n",
      "|       project|\n",
      "|     gutenberg|\n",
      "|              |\n",
      "|  frankenstein|\n",
      "|            by|\n",
      "|          mary|\n",
      "|wollstonecraft|\n",
      "|              |\n",
      "|        godwin|\n",
      "|              |\n",
      "|       shelley|\n",
      "|              |\n",
      "|          this|\n",
      "|         ebook|\n",
      "|            is|\n",
      "|           for|\n",
      "|           the|\n",
      "|           use|\n",
      "|            of|\n",
      "+--------------+\n",
      "only showing top 20 rows\n",
      "\n"
     ]
    }
   ],
   "source": [
    "from pyspark.sql.functions import regexp_extract\n",
    "words_clean = words_lower.select(regexp_extract(\"words_lower\", \"[a-zA-z]{2,}|a|i\", 0).alias(\"words_nonempty\"))\n",
    "words_clean.show()"
   ]
  },
  {
   "cell_type": "code",
   "execution_count": 115,
   "id": "2bbd16f0",
   "metadata": {},
   "outputs": [
    {
     "name": "stdout",
     "output_type": "stream",
     "text": [
      "+--------------+\n",
      "|words_nonempty|\n",
      "+--------------+\n",
      "|       project|\n",
      "|     gutenberg|\n",
      "|  frankenstein|\n",
      "|            by|\n",
      "|          mary|\n",
      "|wollstonecraft|\n",
      "|        godwin|\n",
      "|       shelley|\n",
      "|          this|\n",
      "|         ebook|\n",
      "|            is|\n",
      "|           for|\n",
      "|           the|\n",
      "|           use|\n",
      "|            of|\n",
      "|        anyone|\n",
      "|      anywhere|\n",
      "|            at|\n",
      "|            no|\n",
      "|          cost|\n",
      "+--------------+\n",
      "only showing top 20 rows\n",
      "\n"
     ]
    }
   ],
   "source": [
    "words_nonempty = words_clean.filter(col(\"words_nonempty\") != \"\")\n",
    "words_nonempty.show()"
   ]
  },
  {
   "cell_type": "code",
   "execution_count": 90,
   "id": "13976662",
   "metadata": {},
   "outputs": [
    {
     "name": "stdout",
     "output_type": "stream",
     "text": [
      "+--------------+\n",
      "|words_nonempty|\n",
      "+--------------+\n",
      "|       project|\n",
      "|     gutenberg|\n",
      "|  frankenstein|\n",
      "|            by|\n",
      "|          mary|\n",
      "|wollstonecraft|\n",
      "|        godwin|\n",
      "|       shelley|\n",
      "|          this|\n",
      "|         ebook|\n",
      "|            is|\n",
      "|           for|\n",
      "|           the|\n",
      "|           use|\n",
      "|            of|\n",
      "|        anyone|\n",
      "|      anywhere|\n",
      "|            at|\n",
      "|            no|\n",
      "|          cost|\n",
      "+--------------+\n",
      "only showing top 20 rows\n",
      "\n"
     ]
    }
   ],
   "source": [
    "# WHERE == filter()\n",
    "proper_words_where = words_clean.where(col(\"words_nonempty\") != \"\")\n",
    "proper_words_where.show(20)"
   ]
  },
  {
   "cell_type": "code",
   "execution_count": 88,
   "id": "1f70003f",
   "metadata": {},
   "outputs": [
    {
     "name": "stdout",
     "output_type": "stream",
     "text": [
      "+--------------+\n",
      "|words_nonempty|\n",
      "+--------------+\n",
      "|              |\n",
      "|       project|\n",
      "|     gutenberg|\n",
      "|              |\n",
      "|  frankenstein|\n",
      "|            by|\n",
      "|          mary|\n",
      "|wollstonecraft|\n",
      "|              |\n",
      "|        godwin|\n",
      "|              |\n",
      "|       shelley|\n",
      "|              |\n",
      "|          this|\n",
      "|         ebook|\n",
      "|            is|\n",
      "|           for|\n",
      "|           the|\n",
      "|           use|\n",
      "|            of|\n",
      "+--------------+\n",
      "only showing top 20 rows\n",
      "\n"
     ]
    }
   ],
   "source": [
    "# Entfernt das Wort, welches mit 'any' beginnt\n",
    "proper_words_any = words_clean.filter(col(\"words_nonempty\") != \"any*\")\n",
    "proper_words_any.show(20)"
   ]
  },
  {
   "cell_type": "markdown",
   "id": "3b402fb3",
   "metadata": {},
   "source": [
    "## Die große Frage: In welcher Reihenfolge filtern? - Wie crazy muss die Regex sein?\n",
    "Antwort: Lesbarkeit geht vor!</br>Spark evaluiert lazy und kann \"hintendran\" sehr viel optimieren.</br>Es gibt keine Reihenfolge, da man es so durchführen sollte, wie man es selbst am Besten versteht."
   ]
  },
  {
   "cell_type": "markdown",
   "id": "a0d06f4d",
   "metadata": {},
   "source": [
    "## Aufgabe 1\n",
    "Das Wort \"is\" soll aus dem gesamten Text entfernt werden und Wörter der mindestlänge von 3 sollen ausgegeben werden"
   ]
  },
  {
   "cell_type": "code",
   "execution_count": 94,
   "id": "dca25102",
   "metadata": {},
   "outputs": [
    {
     "name": "stdout",
     "output_type": "stream",
     "text": [
      "+--------------+\n",
      "|words_nonempty|\n",
      "+--------------+\n",
      "|       project|\n",
      "|     gutenberg|\n",
      "|  frankenstein|\n",
      "|            by|\n",
      "|          mary|\n",
      "|wollstonecraft|\n",
      "|        godwin|\n",
      "|       shelley|\n",
      "|          this|\n",
      "|         ebook|\n",
      "|           for|\n",
      "|           the|\n",
      "|           use|\n",
      "|            of|\n",
      "|        anyone|\n",
      "|      anywhere|\n",
      "|            at|\n",
      "|            no|\n",
      "|          cost|\n",
      "|           and|\n",
      "+--------------+\n",
      "only showing top 20 rows\n",
      "\n"
     ]
    }
   ],
   "source": [
    "words_short = words_nonempty.where(col(\"words_nonempty\") != \"is\")\n",
    "words_short.show(20)"
   ]
  },
  {
   "cell_type": "code",
   "execution_count": 92,
   "id": "ea58a9a5",
   "metadata": {},
   "outputs": [
    {
     "name": "stdout",
     "output_type": "stream",
     "text": [
      "+--------------+\n",
      "|words_nonempty|\n",
      "+--------------+\n",
      "|       project|\n",
      "|     gutenberg|\n",
      "|  frankenstein|\n",
      "|          mary|\n",
      "|wollstonecraft|\n",
      "|        godwin|\n",
      "|       shelley|\n",
      "|          this|\n",
      "|         ebook|\n",
      "|        anyone|\n",
      "|      anywhere|\n",
      "|          cost|\n",
      "|          with|\n",
      "|        almost|\n",
      "|  restrictions|\n",
      "|    whatsoever|\n",
      "|          copy|\n",
      "|          give|\n",
      "|          away|\n",
      "|         under|\n",
      "+--------------+\n",
      "only showing top 20 rows\n",
      "\n"
     ]
    }
   ],
   "source": [
    "from pyspark.sql.functions import length\n",
    "min3Zeichen = words_nonempty.where(length(col(\"words_nonempty\"))>3)\n",
    "min3Zeichen.show(20)"
   ]
  },
  {
   "cell_type": "markdown",
   "id": "aee10906",
   "metadata": {},
   "source": [
    "## Aufgabe 2\n",
    "Finde programmatisch heraus, wie viele Spalten **keine** Strings sind."
   ]
  },
  {
   "cell_type": "code",
   "execution_count": 97,
   "id": "2a7cb73b",
   "metadata": {},
   "outputs": [
    {
     "name": "stdout",
     "output_type": "stream",
     "text": [
      "root\n",
      " |-- 1: string (nullable = true)\n",
      " |-- 2: string (nullable = true)\n",
      " |-- 3: long (nullable = true)\n",
      "\n"
     ]
    }
   ],
   "source": [
    "datenA2 = spark.createDataFrame([[\"test\", \"noch ein test\", 10_000_000_000]],[\"1\",\"2\",\"3\"])\n",
    "datenA2.printSchema()"
   ]
  },
  {
   "cell_type": "code",
   "execution_count": 98,
   "id": "d312ad15",
   "metadata": {},
   "outputs": [
    {
     "name": "stdout",
     "output_type": "stream",
     "text": [
      "cnt = 1\n"
     ]
    }
   ],
   "source": [
    "cnt = 0\n",
    "for x, y in datenA2.dtypes:\n",
    "    if y != \"string\":\n",
    "        cnt += 1\n",
    "print(f\"cnt = {cnt}\")"
   ]
  },
  {
   "cell_type": "markdown",
   "id": "ea5ad31b",
   "metadata": {},
   "source": [
    "## Aufgabe 3\n",
    "Mache den Code lesbarer!"
   ]
  },
  {
   "cell_type": "code",
   "execution_count": 99,
   "id": "63488b7a",
   "metadata": {},
   "outputs": [],
   "source": [
    "# Ausgangscode\n",
    "datenA3 = spark.read.text(\"../frankenstein.txt\").select(length(col(\"value\"))).withColumnRenamed(\"length(value)\", \"numChar\")"
   ]
  },
  {
   "cell_type": "code",
   "execution_count": 101,
   "id": "82522857",
   "metadata": {},
   "outputs": [],
   "source": [
    "# Austauschen von withColumnRenamed mit alias()\n",
    "datenA3 = spark.read.text(\"../frankenstein.txt\").select(length(col(\"value\"))).alias(\"numChar\")"
   ]
  },
  {
   "cell_type": "markdown",
   "id": "aad541b8",
   "metadata": {},
   "source": [
    "## Aufgabe 4\n",
    "Im folgenden Code gibt es ein Problem. Was ist es und wie kann man es reparieren?"
   ]
  },
  {
   "cell_type": "code",
   "execution_count": 111,
   "id": "96441ec8",
   "metadata": {},
   "outputs": [
    {
     "name": "stdout",
     "output_type": "stream",
     "text": [
      "root\n",
      " |-- key: string (nullable = true)\n",
      " |-- value1: long (nullable = true)\n",
      " |-- value2: long (nullable = true)\n",
      "\n"
     ]
    }
   ],
   "source": [
    "datenA4 = spark.createDataFrame([[\"key\", 20_000_000, 10_000_000_000]], [\"key\", \"value1\", \"value2\"])\n",
    "datenA4.printSchema()"
   ]
  },
  {
   "cell_type": "code",
   "execution_count": 113,
   "id": "fd4dfeaf",
   "metadata": {},
   "outputs": [
    {
     "ename": "AnalysisException",
     "evalue": "Column 'key' does not exist. Did you mean one of the following? [maxVal];\n'Project ['key, maxVal#489L]\n+- Project [greatest(value1#470L, value2#471L) AS maxVal#489L]\n   +- LogicalRDD [key#469, value1#470L, value2#471L], false\n",
     "output_type": "error",
     "traceback": [
      "\u001b[0;31m---------------------------------------------------------------------------\u001b[0m",
      "\u001b[0;31mAnalysisException\u001b[0m                         Traceback (most recent call last)",
      "Cell \u001b[0;32mIn[113], line 3\u001b[0m\n\u001b[1;32m      1\u001b[0m \u001b[38;5;28;01mfrom\u001b[39;00m \u001b[38;5;21;01mpyspark\u001b[39;00m\u001b[38;5;21;01m.\u001b[39;00m\u001b[38;5;21;01msql\u001b[39;00m\u001b[38;5;21;01m.\u001b[39;00m\u001b[38;5;21;01mfunctions\u001b[39;00m \u001b[38;5;28;01mimport\u001b[39;00m greatest\n\u001b[0;32m----> 3\u001b[0m datenA4M \u001b[38;5;241m=\u001b[39m \u001b[43mdatenA4\u001b[49m\u001b[38;5;241;43m.\u001b[39;49m\u001b[43mselect\u001b[49m\u001b[43m(\u001b[49m\u001b[43mgreatest\u001b[49m\u001b[43m(\u001b[49m\u001b[43mcol\u001b[49m\u001b[43m(\u001b[49m\u001b[38;5;124;43m\"\u001b[39;49m\u001b[38;5;124;43mvalue1\u001b[39;49m\u001b[38;5;124;43m\"\u001b[39;49m\u001b[43m)\u001b[49m\u001b[43m,\u001b[49m\u001b[43m \u001b[49m\u001b[43mcol\u001b[49m\u001b[43m(\u001b[49m\u001b[38;5;124;43m\"\u001b[39;49m\u001b[38;5;124;43mvalue2\u001b[39;49m\u001b[38;5;124;43m\"\u001b[39;49m\u001b[43m)\u001b[49m\u001b[43m)\u001b[49m\u001b[38;5;241;43m.\u001b[39;49m\u001b[43malias\u001b[49m\u001b[43m(\u001b[49m\u001b[38;5;124;43m\"\u001b[39;49m\u001b[38;5;124;43mmaxVal\u001b[39;49m\u001b[38;5;124;43m\"\u001b[39;49m\u001b[43m)\u001b[49m\u001b[43m)\u001b[49m\u001b[38;5;241;43m.\u001b[39;49m\u001b[43mselect\u001b[49m\u001b[43m(\u001b[49m\u001b[38;5;124;43m\"\u001b[39;49m\u001b[38;5;124;43mkey\u001b[39;49m\u001b[38;5;124;43m\"\u001b[39;49m\u001b[43m,\u001b[49m\u001b[43m \u001b[49m\u001b[38;5;124;43m\"\u001b[39;49m\u001b[38;5;124;43mmaxVal\u001b[39;49m\u001b[38;5;124;43m\"\u001b[39;49m\u001b[43m)\u001b[49m\n\u001b[1;32m      4\u001b[0m datenA4M\u001b[38;5;241m.\u001b[39mshow()\n",
      "File \u001b[0;32m/usr/local/spark/python/pyspark/sql/dataframe.py:2023\u001b[0m, in \u001b[0;36mDataFrame.select\u001b[0;34m(self, *cols)\u001b[0m\n\u001b[1;32m   2002\u001b[0m \u001b[38;5;28;01mdef\u001b[39;00m \u001b[38;5;21mselect\u001b[39m(\u001b[38;5;28mself\u001b[39m, \u001b[38;5;241m*\u001b[39mcols: \u001b[38;5;124m\"\u001b[39m\u001b[38;5;124mColumnOrName\u001b[39m\u001b[38;5;124m\"\u001b[39m) \u001b[38;5;241m-\u001b[39m\u001b[38;5;241m>\u001b[39m \u001b[38;5;124m\"\u001b[39m\u001b[38;5;124mDataFrame\u001b[39m\u001b[38;5;124m\"\u001b[39m:  \u001b[38;5;66;03m# type: ignore[misc]\u001b[39;00m\n\u001b[1;32m   2003\u001b[0m     \u001b[38;5;124;03m\"\"\"Projects a set of expressions and returns a new :class:`DataFrame`.\u001b[39;00m\n\u001b[1;32m   2004\u001b[0m \n\u001b[1;32m   2005\u001b[0m \u001b[38;5;124;03m    .. versionadded:: 1.3.0\u001b[39;00m\n\u001b[0;32m   (...)\u001b[0m\n\u001b[1;32m   2021\u001b[0m \u001b[38;5;124;03m    [Row(name='Alice', age=12), Row(name='Bob', age=15)]\u001b[39;00m\n\u001b[1;32m   2022\u001b[0m \u001b[38;5;124;03m    \"\"\"\u001b[39;00m\n\u001b[0;32m-> 2023\u001b[0m     jdf \u001b[38;5;241m=\u001b[39m \u001b[38;5;28;43mself\u001b[39;49m\u001b[38;5;241;43m.\u001b[39;49m\u001b[43m_jdf\u001b[49m\u001b[38;5;241;43m.\u001b[39;49m\u001b[43mselect\u001b[49m\u001b[43m(\u001b[49m\u001b[38;5;28;43mself\u001b[39;49m\u001b[38;5;241;43m.\u001b[39;49m\u001b[43m_jcols\u001b[49m\u001b[43m(\u001b[49m\u001b[38;5;241;43m*\u001b[39;49m\u001b[43mcols\u001b[49m\u001b[43m)\u001b[49m\u001b[43m)\u001b[49m\n\u001b[1;32m   2024\u001b[0m     \u001b[38;5;28;01mreturn\u001b[39;00m DataFrame(jdf, \u001b[38;5;28mself\u001b[39m\u001b[38;5;241m.\u001b[39msparkSession)\n",
      "File \u001b[0;32m/usr/local/spark/python/lib/py4j-0.10.9.5-src.zip/py4j/java_gateway.py:1321\u001b[0m, in \u001b[0;36mJavaMember.__call__\u001b[0;34m(self, *args)\u001b[0m\n\u001b[1;32m   1315\u001b[0m command \u001b[38;5;241m=\u001b[39m proto\u001b[38;5;241m.\u001b[39mCALL_COMMAND_NAME \u001b[38;5;241m+\u001b[39m\\\n\u001b[1;32m   1316\u001b[0m     \u001b[38;5;28mself\u001b[39m\u001b[38;5;241m.\u001b[39mcommand_header \u001b[38;5;241m+\u001b[39m\\\n\u001b[1;32m   1317\u001b[0m     args_command \u001b[38;5;241m+\u001b[39m\\\n\u001b[1;32m   1318\u001b[0m     proto\u001b[38;5;241m.\u001b[39mEND_COMMAND_PART\n\u001b[1;32m   1320\u001b[0m answer \u001b[38;5;241m=\u001b[39m \u001b[38;5;28mself\u001b[39m\u001b[38;5;241m.\u001b[39mgateway_client\u001b[38;5;241m.\u001b[39msend_command(command)\n\u001b[0;32m-> 1321\u001b[0m return_value \u001b[38;5;241m=\u001b[39m \u001b[43mget_return_value\u001b[49m\u001b[43m(\u001b[49m\n\u001b[1;32m   1322\u001b[0m \u001b[43m    \u001b[49m\u001b[43manswer\u001b[49m\u001b[43m,\u001b[49m\u001b[43m \u001b[49m\u001b[38;5;28;43mself\u001b[39;49m\u001b[38;5;241;43m.\u001b[39;49m\u001b[43mgateway_client\u001b[49m\u001b[43m,\u001b[49m\u001b[43m \u001b[49m\u001b[38;5;28;43mself\u001b[39;49m\u001b[38;5;241;43m.\u001b[39;49m\u001b[43mtarget_id\u001b[49m\u001b[43m,\u001b[49m\u001b[43m \u001b[49m\u001b[38;5;28;43mself\u001b[39;49m\u001b[38;5;241;43m.\u001b[39;49m\u001b[43mname\u001b[49m\u001b[43m)\u001b[49m\n\u001b[1;32m   1324\u001b[0m \u001b[38;5;28;01mfor\u001b[39;00m temp_arg \u001b[38;5;129;01min\u001b[39;00m temp_args:\n\u001b[1;32m   1325\u001b[0m     temp_arg\u001b[38;5;241m.\u001b[39m_detach()\n",
      "File \u001b[0;32m/usr/local/spark/python/pyspark/sql/utils.py:196\u001b[0m, in \u001b[0;36mcapture_sql_exception.<locals>.deco\u001b[0;34m(*a, **kw)\u001b[0m\n\u001b[1;32m    192\u001b[0m converted \u001b[38;5;241m=\u001b[39m convert_exception(e\u001b[38;5;241m.\u001b[39mjava_exception)\n\u001b[1;32m    193\u001b[0m \u001b[38;5;28;01mif\u001b[39;00m \u001b[38;5;129;01mnot\u001b[39;00m \u001b[38;5;28misinstance\u001b[39m(converted, UnknownException):\n\u001b[1;32m    194\u001b[0m     \u001b[38;5;66;03m# Hide where the exception came from that shows a non-Pythonic\u001b[39;00m\n\u001b[1;32m    195\u001b[0m     \u001b[38;5;66;03m# JVM exception message.\u001b[39;00m\n\u001b[0;32m--> 196\u001b[0m     \u001b[38;5;28;01mraise\u001b[39;00m converted \u001b[38;5;28;01mfrom\u001b[39;00m \u001b[38;5;28mNone\u001b[39m\n\u001b[1;32m    197\u001b[0m \u001b[38;5;28;01melse\u001b[39;00m:\n\u001b[1;32m    198\u001b[0m     \u001b[38;5;28;01mraise\u001b[39;00m\n",
      "\u001b[0;31mAnalysisException\u001b[0m: Column 'key' does not exist. Did you mean one of the following? [maxVal];\n'Project ['key, maxVal#489L]\n+- Project [greatest(value1#470L, value2#471L) AS maxVal#489L]\n   +- LogicalRDD [key#469, value1#470L, value2#471L], false\n"
     ]
    }
   ],
   "source": [
    "from pyspark.sql.functions import greatest\n",
    "\n",
    "datenA4M = datenA4.select(greatest(col(\"value1\"), col(\"value2\")).alias(\"maxVal\")).select(\"key\", \"maxVal\")\n",
    "datenA4M.show()"
   ]
  },
  {
   "cell_type": "code",
   "execution_count": 112,
   "id": "e78a72a2",
   "metadata": {},
   "outputs": [
    {
     "name": "stdout",
     "output_type": "stream",
     "text": [
      "+---+-----------+\n",
      "|key|     maxVal|\n",
      "+---+-----------+\n",
      "|key|10000000000|\n",
      "+---+-----------+\n",
      "\n"
     ]
    }
   ],
   "source": [
    "from pyspark.sql.functions import greatest\n",
    "\n",
    "datenA4M = datenA4.select(col(\"key\"),greatest(col(\"value1\"), col(\"value2\")).alias(\"maxVal\")).select(\"key\", \"maxVal\")\n",
    "datenA4M.show()\n",
    "\n",
    "# Das Problem bestand darin, dass ein select auf den \"key\" getätigt wurde, allerdings diese Spalte noch nicht existierte"
   ]
  },
  {
   "cell_type": "markdown",
   "id": "df811658",
   "metadata": {},
   "source": [
    "## Aufgabe 5\n",
    "Filtere mit Hilfe der Funktion *isin* die Wörter *is*, *not*, *if* und *the* aus dem Text"
   ]
  },
  {
   "cell_type": "code",
   "execution_count": 123,
   "id": "8fe01101",
   "metadata": {},
   "outputs": [
    {
     "name": "stdout",
     "output_type": "stream",
     "text": [
      "+--------------+\n",
      "|words_nonempty|\n",
      "+--------------+\n",
      "|       project|\n",
      "|     gutenberg|\n",
      "|  frankenstein|\n",
      "|            by|\n",
      "|          mary|\n",
      "|wollstonecraft|\n",
      "|        godwin|\n",
      "|       shelley|\n",
      "|          this|\n",
      "|         ebook|\n",
      "|           for|\n",
      "|           use|\n",
      "|            of|\n",
      "|        anyone|\n",
      "|      anywhere|\n",
      "|            at|\n",
      "|            no|\n",
      "|          cost|\n",
      "|           and|\n",
      "|          with|\n",
      "+--------------+\n",
      "only showing top 20 rows\n",
      "\n"
     ]
    }
   ],
   "source": [
    "filter_words = [\"is\", \"not\", \"if\", \"the\"]\n",
    "words_nonempty.filter(~words_nonempty.words_nonempty.isin(filter_words)).show()\n",
    "#words_nonempty.filter(words_nonempty.words_nonempty.isin(filter_words)).show() = Gibt alle filter_words aus"
   ]
  },
  {
   "cell_type": "code",
   "execution_count": 127,
   "id": "fe9c8a64",
   "metadata": {},
   "outputs": [
    {
     "name": "stdout",
     "output_type": "stream",
     "text": [
      "+-----------+\n",
      "|filter word|\n",
      "+-----------+\n",
      "|         is|\n",
      "|        not|\n",
      "|         if|\n",
      "|        the|\n",
      "+-----------+\n",
      "\n"
     ]
    }
   ],
   "source": [
    "df_filter_words = spark.createDataFrame([[\"is\"], [\"not\"], [\"if\"], [\"the\"]],[\"filter word\"])\n",
    "df_filter_words.show()\n",
    "\n",
    "#df2_filter_words = spark.createDataFrame([[\"is\", \"not\", \"if\", \"the\"]],[\"filter word\"])\n",
    "#df2_filter_words.show()"
   ]
  },
  {
   "cell_type": "markdown",
   "id": "56ef22c3",
   "metadata": {},
   "source": [
    "## Aufgabe 6\n",
    "Finde den / die Fehler im folgenden Code und repariere ihn so, dass der Code so wie erwartet funktioniert"
   ]
  },
  {
   "cell_type": "code",
   "execution_count": 133,
   "id": "930af5d0",
   "metadata": {},
   "outputs": [
    {
     "name": "stdout",
     "output_type": "stream",
     "text": [
      "Path does not exist: file:/home/jovyan/spark/frankenstein.txt\n",
      "+--------------+\n",
      "|          word|\n",
      "+--------------+\n",
      "|              |\n",
      "|       Project|\n",
      "|   Gutenberg's|\n",
      "| Frankenstein,|\n",
      "|            by|\n",
      "|          Mary|\n",
      "|Wollstonecraft|\n",
      "|      (Godwin)|\n",
      "|       Shelley|\n",
      "|              |\n",
      "|          This|\n",
      "|         eBook|\n",
      "|            is|\n",
      "|           for|\n",
      "|           the|\n",
      "|           use|\n",
      "|            of|\n",
      "|        anyone|\n",
      "|      anywhere|\n",
      "|            at|\n",
      "+--------------+\n",
      "only showing top 20 rows\n",
      "\n"
     ]
    }
   ],
   "source": [
    "from pyspark.sql.functions import col, split\n",
    "try:\n",
    "    book = spark.read.text(\"frankenstein.txt\")\n",
    "    book = book.printSchema() # Überschreiben der Variable book -> Select kann auf das Schema nicht ausgeführt werden!\n",
    "    lines= book.select(spolit(book.value, \" \").alias(\"lime\")) # spolit = split\n",
    "    words = lines.select(explode(col(\"line\")).alias(\"word\")) # Spalte \"line\" existiert nicht\n",
    "except AnalysisException as err:\n",
    "    print(err)\n",
    "words.show()"
   ]
  },
  {
   "cell_type": "code",
   "execution_count": 132,
   "id": "0584ea34",
   "metadata": {},
   "outputs": [
    {
     "name": "stdout",
     "output_type": "stream",
     "text": [
      "root\n",
      " |-- value: string (nullable = true)\n",
      "\n",
      "+--------------+\n",
      "|          word|\n",
      "+--------------+\n",
      "|              |\n",
      "|       Project|\n",
      "|   Gutenberg's|\n",
      "| Frankenstein,|\n",
      "|            by|\n",
      "|          Mary|\n",
      "|Wollstonecraft|\n",
      "|      (Godwin)|\n",
      "|       Shelley|\n",
      "|              |\n",
      "|          This|\n",
      "|         eBook|\n",
      "|            is|\n",
      "|           for|\n",
      "|           the|\n",
      "|           use|\n",
      "|            of|\n",
      "|        anyone|\n",
      "|      anywhere|\n",
      "|            at|\n",
      "+--------------+\n",
      "only showing top 20 rows\n",
      "\n"
     ]
    }
   ],
   "source": [
    "from pyspark.sql.functions import col, split\n",
    "try:\n",
    "    text = spark.read.text(\"../frankenstein.txt\")\n",
    "    book = text.printSchema() \n",
    "    lines= text.select(split(text.value, \" \").alias(\"lime\"))\n",
    "    words = lines.select(explode(col(\"lime\")).alias(\"word\"))\n",
    "except AnalysisException as err:\n",
    "    print(err)\n",
    "words.show()"
   ]
  },
  {
   "cell_type": "code",
   "execution_count": null,
   "id": "e0d938e2",
   "metadata": {},
   "outputs": [],
   "source": []
  }
 ],
 "metadata": {
  "kernelspec": {
   "display_name": "Python 3 (ipykernel)",
   "language": "python",
   "name": "python3"
  },
  "language_info": {
   "codemirror_mode": {
    "name": "ipython",
    "version": 3
   },
   "file_extension": ".py",
   "mimetype": "text/x-python",
   "name": "python",
   "nbconvert_exporter": "python",
   "pygments_lexer": "ipython3",
   "version": "3.10.8"
  }
 },
 "nbformat": 4,
 "nbformat_minor": 5
}
