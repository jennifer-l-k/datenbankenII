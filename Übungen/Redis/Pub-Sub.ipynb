{
 "cells": [
  {
   "cell_type": "markdown",
   "id": "80e891ac-6fc5-4a98-aac8-82d8e833231e",
   "metadata": {},
   "source": [
    "# Redis\n",
    "Aufbau einer *publish-subscribe* Verbindung</br>\n",
    "**NOTE**: https://kb.objectrocket.com/redis/basic-redis-usage-example-part-1-exploring-pub-sub-with-redis-python-583"
   ]
  },
  {
   "cell_type": "code",
   "execution_count": 10,
   "id": "50c9c6a6-506b-48a6-a445-bca5cba11dbe",
   "metadata": {},
   "outputs": [],
   "source": [
    "import redis\n",
    "# connect with redis server as Bob\n",
    "bob_r = redis.Redis(host='localhost', port=6379, db=0)\n",
    "bob_p = bob_r.pubsub()\n",
    "# subscribe to classical music\n",
    "bob_p.subscribe('classical_music')"
   ]
  },
  {
   "cell_type": "code",
   "execution_count": 11,
   "id": "251b7422-97ce-4c14-9907-c5c0777a7931",
   "metadata": {},
   "outputs": [
    {
     "data": {
      "text/plain": [
       "1"
      ]
     },
     "execution_count": 11,
     "metadata": {},
     "output_type": "execute_result"
    }
   ],
   "source": [
    "# connect with redis server as Alice\n",
    "alice_r = redis.Redis(host='localhost', port=6379, db=0)\n",
    "# publish new music in the channel epic_music\n",
    "alice_r.publish('classical_music', 'Alice Music')"
   ]
  },
  {
   "cell_type": "code",
   "execution_count": 12,
   "id": "7f8f8f26-ef62-4a23-b648-1fcac4f59fc3",
   "metadata": {},
   "outputs": [
    {
     "name": "stdout",
     "output_type": "stream",
     "text": [
      "b'Alice Music'\n"
     ]
    }
   ],
   "source": [
    "# ignore Bob subscribed message\n",
    "bob_p.get_message()\n",
    "# now bob can find alice’s music by simply using get_message()\n",
    "new_music = bob_p.get_message()['data']\n",
    "print(new_music)"
   ]
  },
  {
   "cell_type": "code",
   "execution_count": 13,
   "id": "5c68e606-e313-4a4c-86c5-c5f34f410ba4",
   "metadata": {},
   "outputs": [
    {
     "name": "stdout",
     "output_type": "stream",
     "text": [
      "b'Alice 2nd Music'\n"
     ]
    }
   ],
   "source": [
    "# Alice published another\n",
    "alice_r.publish('classical_music', 'Alice 2nd Music')\n",
    "#Lets grab it!\n",
    "another_music = bob_p.get_message()['data']\n",
    "print(another_music)"
   ]
  }
 ],
 "metadata": {
  "kernelspec": {
   "display_name": "Python 3 (ipykernel)",
   "language": "python",
   "name": "python3"
  },
  "language_info": {
   "codemirror_mode": {
    "name": "ipython",
    "version": 3
   },
   "file_extension": ".py",
   "mimetype": "text/x-python",
   "name": "python",
   "nbconvert_exporter": "python",
   "pygments_lexer": "ipython3",
   "version": "3.10.8"
  }
 },
 "nbformat": 4,
 "nbformat_minor": 5
}
