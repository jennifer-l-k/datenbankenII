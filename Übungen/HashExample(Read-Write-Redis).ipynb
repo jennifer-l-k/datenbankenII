{
 "cells": [
  {
   "cell_type": "code",
   "execution_count": null,
   "id": "b224fa5b",
   "metadata": {},
   "outputs": [],
   "source": [
    "import json\n",
    "import redis\n",
    "import pymongo\n",
    "\n",
    "# DB Connections, Mongo then Redis\n",
    "\n",
    "# MONGO\n",
    "MONGODB_URI = \"mongodb://localhost:27017/\"\n",
    "\n",
    "# Connect to your MongoDB\n",
    "mongoclient = pymongo.MongoClient(MONGODB_URI)\n",
    "\n",
    "# select/create database\n",
    "mongodb = mongoclient[\"testdb\"]\n",
    "# select/create collection in database\n",
    "mongoCollection = mongodb[\"testcoll\"]\n",
    "\n",
    "# REDIS\n",
    "r = redis.Redis(host=\"localhost\", port=6379, db=0)\n",
    "\n",
    "\n",
    "# TEST\n",
    "testdict = {\n",
    "    \"hello\": \"new world\",\n",
    "    \"temperature\": 15.0,\n",
    "}\n",
    "\n",
    "# Save in Redis\n",
    "r.hset(\"myhash\", mapping=testdict)\n",
    "\n",
    "# Load from Redis\n",
    "myLoadedHash = r.hgetall(\"myhash\")\n",
    "myDocument = {}\n",
    "\n",
    "for key in myLoadedHash:\n",
    "    # Decode Key to String\n",
    "    keyStr = key.decode(\"utf-8\")\n",
    "    # Decode Value to String - TODO maybe decode numbers or other datatypes?\n",
    "    myDocument[keyStr] = myLoadedHash[key].decode(\"utf-8\")\n",
    "\n",
    "print(myDocument)\n",
    "\n",
    "mongoCollection.insert_one(myDocument)"
   ]
  }
 ],
 "metadata": {
  "kernelspec": {
   "display_name": "Python 3 (ipykernel)",
   "language": "python",
   "name": "python3"
  },
  "language_info": {
   "codemirror_mode": {
    "name": "ipython",
    "version": 3
   },
   "file_extension": ".py",
   "mimetype": "text/x-python",
   "name": "python",
   "nbconvert_exporter": "python",
   "pygments_lexer": "ipython3",
   "version": "3.10.8"
  }
 },
 "nbformat": 4,
 "nbformat_minor": 5
}
