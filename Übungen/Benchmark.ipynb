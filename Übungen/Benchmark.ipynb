{
 "cells": [
  {
   "cell_type": "code",
   "execution_count": null,
   "id": "f787193e",
   "metadata": {},
   "outputs": [],
   "source": [
    "import datetime\n",
    "\n",
    "# simple benchmark\n",
    "\n",
    "# increase repetitions for accuracy\n",
    "# decrease for benchmark speed\n",
    "repetition = int(1e3)\n",
    "start = datetime.datetime.now()\n",
    "\n",
    "for i in range(0, repetition):\n",
    "        #operation\n",
    "\n",
    "end = datetime.datetime.now()\n",
    "\n",
    "timing = (end - start) / repetition\n",
    "\n",
    "print(timing)\n",
    "#hour:minute:second:fractions of second"
   ]
  }
 ],
 "metadata": {
  "kernelspec": {
   "display_name": "Python 3 (ipykernel)",
   "language": "python",
   "name": "python3"
  },
  "language_info": {
   "codemirror_mode": {
    "name": "ipython",
    "version": 3
   },
   "file_extension": ".py",
   "mimetype": "text/x-python",
   "name": "python",
   "nbconvert_exporter": "python",
   "pygments_lexer": "ipython3",
   "version": "3.10.8"
  }
 },
 "nbformat": 4,
 "nbformat_minor": 5
}
