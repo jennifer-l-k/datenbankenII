{
 "cells": [
  {
   "cell_type": "markdown",
   "id": "d3d15be1",
   "metadata": {},
   "source": [
    "# SQL Abfragen der *movie* Daten\n",
    "\n",
    "Using: https://towardsdatascience.com/pyspark-and-sparksql-basics-6cb4bf967e53"
   ]
  },
  {
   "cell_type": "markdown",
   "id": "5088a4cc",
   "metadata": {},
   "source": [
    "## Aufgabe 1\n",
    "Bearbeite das zur Verfügung gestellte Tutorial und wende das Gelernte an, um aus den Movie-Daten der letzten Vorlesung einen *kombinierten* Dataframe aufzubauen den man dann gut mit *traditionellen* SQL-Abfragen bearbeiten und speicher diesen direkt als *JSON-File*, dass man dann z.B. in MongoDB importieren kann.\n",
    "\n",
    "Demonstriere, dass alles funktioniert an Hand von beispielhaften SQL-Abfragen und importiere es wirklich in MongoDB/Compass."
   ]
  },
  {
   "cell_type": "code",
   "execution_count": 2,
   "id": "3b6b0435",
   "metadata": {},
   "outputs": [],
   "source": [
    "# Wir wollen DataFrames nutzen und dafür brauchen wir eine SparkSession\n",
    "# Import SparkSession\n",
    "from pyspark.sql import SparkSession\n",
    "\n",
    "# Create SparkSession\n",
    "spark = SparkSession.builder\\\n",
    "    .master(\"local[1]\")\\\n",
    "    .appName(\"Datenbanken mit Spark\")\\\n",
    "    .getOrCreate() # getOrCreate liefert existierende Session, wenn es schon eine gibt"
   ]
  },
  {
   "cell_type": "code",
   "execution_count": 4,
   "id": "180dcfd3",
   "metadata": {},
   "outputs": [
    {
     "data": {
      "text/html": [
       "\n",
       "            <div>\n",
       "                <p><b>SparkSession - in-memory</b></p>\n",
       "                \n",
       "        <div>\n",
       "            <p><b>SparkContext</b></p>\n",
       "\n",
       "            <p><a href=\"http://b1b8c900d22a:4040\">Spark UI</a></p>\n",
       "\n",
       "            <dl>\n",
       "              <dt>Version</dt>\n",
       "                <dd><code>v3.3.1</code></dd>\n",
       "              <dt>Master</dt>\n",
       "                <dd><code>local[1]</code></dd>\n",
       "              <dt>AppName</dt>\n",
       "                <dd><code>Datenbanken mit Spark</code></dd>\n",
       "            </dl>\n",
       "        </div>\n",
       "        \n",
       "            </div>\n",
       "        "
      ],
      "text/plain": [
       "<pyspark.sql.session.SparkSession at 0x7f0bf407fa00>"
      ]
     },
     "execution_count": 4,
     "metadata": {},
     "output_type": "execute_result"
    }
   ],
   "source": [
    "spark"
   ]
  },
  {
   "cell_type": "markdown",
   "id": "b0e0afea",
   "metadata": {},
   "source": [
    "Erstellen von Daten-Frames durch Einlesen als *.tsv* und Ausgabe als *.csv*.\n",
    "</br>\n",
    "</br>\n",
    "**Note**: \n",
    "   - Mit *\"inferSchema\"* werden beispielsweise *Integer* als solches erkannt, auch wenn diese als *String* hinterlegt sind\n",
    "   - Durch *\"sep\"* wird die logische Trennung zwischen den Spalteninhalten festgelegt, wenn eine *.csv*-Datei gelesen werden soll, es sich allerdings um ein *.tsv*-Format handelt. Hier wird der *Tabulator* als Trennung verwendet"
   ]
  },
  {
   "cell_type": "code",
   "execution_count": 13,
   "id": "eed5c36a",
   "metadata": {},
   "outputs": [
    {
     "name": "stdout",
     "output_type": "stream",
     "text": [
      "root\n",
      " |-- nconst: string (nullable = true)\n",
      " |-- primaryName: string (nullable = true)\n",
      " |-- birthYear: string (nullable = true)\n",
      " |-- deathYear: string (nullable = true)\n",
      " |-- primaryProfession: string (nullable = true)\n",
      " |-- knownForTitles: string (nullable = true)\n",
      "\n"
     ]
    }
   ],
   "source": [
    "# Creates a spark data frame for .tsv\n",
    "name_basic = spark.read.format(\"csv\")\\\n",
    ".option(\"inferSchema\", \"true\")\\\n",
    ".option(\"sep\",\"\\t\")\\\n",
    ".option(\"header\", \"true\")\\\n",
    ".load(\"../movie/name_basic.tsv\")\n",
    "\n",
    "name_basic.printSchema()"
   ]
  },
  {
   "cell_type": "markdown",
   "id": "aff3a311",
   "metadata": {},
   "source": [
    "Duplizierte Werte innerhalb einer Tabelle können mittels der *dropDuplicates()* Funktion entfernt werden."
   ]
  },
  {
   "cell_type": "code",
   "execution_count": 14,
   "id": "f3eb57cb",
   "metadata": {},
   "outputs": [
    {
     "name": "stdout",
     "output_type": "stream",
     "text": [
      "+---------+---------------+---------+---------+--------------------+--------------------+\n",
      "|   nconst|    primaryName|birthYear|deathYear|   primaryProfession|      knownForTitles|\n",
      "+---------+---------------+---------+---------+--------------------+--------------------+\n",
      "|nm0000001|   Fred Astaire|     1899|     1987|soundtrack,actor,...|tt0031983,tt00723...|\n",
      "|nm0000002|  Lauren Bacall|     1924|     2014|  actress,soundtrack|tt0038355,tt01170...|\n",
      "|nm0000003|Brigitte Bardot|     1934|       \\N|actress,soundtrac...|tt0049189,tt00573...|\n",
      "|nm0000004|   John Belushi|     1949|     1982|actor,soundtrack,...|tt0077975,tt00787...|\n",
      "|nm0000005| Ingmar Bergman|     1918|     2007|writer,director,a...|tt0050986,tt00608...|\n",
      "|nm0000006| Ingrid Bergman|     1915|     1982|actress,soundtrac...|tt0038109,tt00387...|\n",
      "|nm0000007|Humphrey Bogart|     1899|     1957|actor,soundtrack,...|tt0037382,tt00432...|\n",
      "|nm0000008|  Marlon Brando|     1924|     2004|actor,soundtrack,...|tt0068646,tt00787...|\n",
      "|nm0000009| Richard Burton|     1925|     1984|actor,soundtrack,...|tt0087803,tt00611...|\n",
      "|nm0000010|   James Cagney|     1899|     1986|actor,soundtrack,...|tt0035575,tt00298...|\n",
      "+---------+---------------+---------+---------+--------------------+--------------------+\n",
      "only showing top 10 rows\n",
      "\n"
     ]
    }
   ],
   "source": [
    "name_basic.show(10)"
   ]
  },
  {
   "cell_type": "code",
   "execution_count": 15,
   "id": "479f8bca",
   "metadata": {},
   "outputs": [
    {
     "name": "stdout",
     "output_type": "stream",
     "text": [
      "+---------+--------------------+---------+---------+--------------------+--------------------+\n",
      "|   nconst|         primaryName|birthYear|deathYear|   primaryProfession|      knownForTitles|\n",
      "+---------+--------------------+---------+---------+--------------------+--------------------+\n",
      "|nm0000141|      David Duchovny|     1960|       \\N|actor,producer,di...|tt0443701,tt09042...|\n",
      "|nm0001115|         Ossie Davis|     1917|     2005|actor,writer,dire...|tt0281686,tt01094...|\n",
      "|nm0001349|Jennifer Love Hewitt|     1979|       \\N|actress,producer,...|tt0130018,tt01193...|\n",
      "|nm0001445|       Martin Landau|     1928|     2017|actor,producer,mi...|tt0053125,tt00963...|\n",
      "|nm0001718|       Kyra Sedgwick|     1965|       \\N|actress,producer,...|tt0361127,tt01144...|\n",
      "|nm0001931|       Binnie Barnes|     1903|     1998|actress,soundtrac...|tt0038108,tt00390...|\n",
      "|nm0002054|       Sheena Easton|     1959|       \\N|  actress,soundtrack|tt0082398,tt01155...|\n",
      "|nm0002146|     James Wong Howe|     1899|     1976|cinematographer,c...|tt0052027,tt00258...|\n",
      "|nm0002158|     Edvin Adolphson|     1893|     1979|actor,director,so...|tt0024726,tt00211...|\n",
      "|nm0002163|Nusrat Fateh Ali ...|     1948|     1997|soundtrack,music_...|tt0116409,tt01106...|\n",
      "+---------+--------------------+---------+---------+--------------------+--------------------+\n",
      "only showing top 10 rows\n",
      "\n"
     ]
    }
   ],
   "source": [
    "name_basic_drop = name_basic.dropDuplicates()\n",
    "name_basic_drop.show(10)"
   ]
  },
  {
   "cell_type": "code",
   "execution_count": 69,
   "id": "6f39f914",
   "metadata": {},
   "outputs": [],
   "source": [
    "name_basic = name_basic_drop"
   ]
  },
  {
   "cell_type": "markdown",
   "id": "726e1e01",
   "metadata": {},
   "source": [
    "Mit dem Spaltenattribut (*\"primaryName\"*) und auch mit dem Index (*\"name_basic[\"primaryName\"]\"*) ist es möglich selektierte Datensätze mittels der *select* Funktion zu erhalten."
   ]
  },
  {
   "cell_type": "code",
   "execution_count": 70,
   "id": "1289b336",
   "metadata": {},
   "outputs": [
    {
     "name": "stdout",
     "output_type": "stream",
     "text": [
      "+--------------------+\n",
      "|         primaryName|\n",
      "+--------------------+\n",
      "|      David Duchovny|\n",
      "|         Ossie Davis|\n",
      "|Jennifer Love Hewitt|\n",
      "|       Martin Landau|\n",
      "|       Kyra Sedgwick|\n",
      "|       Binnie Barnes|\n",
      "|       Sheena Easton|\n",
      "|     James Wong Howe|\n",
      "|     Edvin Adolphson|\n",
      "|Nusrat Fateh Ali ...|\n",
      "|       David Jackson|\n",
      "|        Larry Lerner|\n",
      "|    Pedro de Cordoba|\n",
      "|    Anne-Marie Blanc|\n",
      "|          J.A. Steel|\n",
      "|          Kirk Bloom|\n",
      "|         Eric Hester|\n",
      "|     Marco Sacerdoti|\n",
      "|       Pamela Bowman|\n",
      "|        Deana Carter|\n",
      "+--------------------+\n",
      "only showing top 20 rows\n",
      "\n",
      "+--------------------+---------+---------+\n",
      "|         primaryName|birthYear|deathYear|\n",
      "+--------------------+---------+---------+\n",
      "|      David Duchovny|     1960|       \\N|\n",
      "|         Ossie Davis|     1917|     2005|\n",
      "|Jennifer Love Hewitt|     1979|       \\N|\n",
      "|       Martin Landau|     1928|     2017|\n",
      "|       Kyra Sedgwick|     1965|       \\N|\n",
      "|       Binnie Barnes|     1903|     1998|\n",
      "|       Sheena Easton|     1959|       \\N|\n",
      "|     James Wong Howe|     1899|     1976|\n",
      "|     Edvin Adolphson|     1893|     1979|\n",
      "|Nusrat Fateh Ali ...|     1948|     1997|\n",
      "|       David Jackson|       \\N|       \\N|\n",
      "|        Larry Lerner|     1949|     2020|\n",
      "|    Pedro de Cordoba|     1881|     1950|\n",
      "|    Anne-Marie Blanc|     1919|     2009|\n",
      "|          J.A. Steel|     1969|       \\N|\n",
      "|          Kirk Bloom|       \\N|       \\N|\n",
      "|         Eric Hester|     1974|       \\N|\n",
      "|     Marco Sacerdoti|     1958|       \\N|\n",
      "|       Pamela Bowman|       \\N|       \\N|\n",
      "|        Deana Carter|     1966|       \\N|\n",
      "+--------------------+---------+---------+\n",
      "only showing top 20 rows\n",
      "\n"
     ]
    }
   ],
   "source": [
    "name_basic.select(\"primaryName\").show(20)\n",
    "name_basic.select(\"primaryName\", \"birthYear\", \"deathYear\").show(20)"
   ]
  },
  {
   "cell_type": "markdown",
   "id": "d5eefff3",
   "metadata": {},
   "source": [
    "Im nachfolgenden Beispiel wird eine *when* Bedingung aufgestellt, die alle Schauspieler ausgibt deren Geburtsjahr über 1920 liegt."
   ]
  },
  {
   "cell_type": "code",
   "execution_count": 16,
   "id": "81e556c8",
   "metadata": {},
   "outputs": [
    {
     "name": "stdout",
     "output_type": "stream",
     "text": [
      "+---------------+----------------------------------------------+\n",
      "|    primaryName|CASE WHEN (birthYear > 1920) THEN 1 ELSE 0 END|\n",
      "+---------------+----------------------------------------------+\n",
      "|   Fred Astaire|                                             0|\n",
      "|  Lauren Bacall|                                             1|\n",
      "|Brigitte Bardot|                                             1|\n",
      "|   John Belushi|                                             1|\n",
      "| Ingmar Bergman|                                             0|\n",
      "+---------------+----------------------------------------------+\n",
      "only showing top 5 rows\n",
      "\n"
     ]
    }
   ],
   "source": [
    "from pyspark.sql.functions import when\n",
    "name_basic.select(\"primaryName\",when(name_basic.birthYear > \"1920\",1).otherwise(0)).show(5)"
   ]
  },
  {
   "cell_type": "markdown",
   "id": "c43a62b6",
   "metadata": {},
   "source": [
    "Innerhalb der *like* Funktion stellt der *%* Charakter eine Art Filterung dar.</br>\n",
    "Im folgenden Beispiel wird nach alle Personen gesucht, die *\"James\"* im Namen haben."
   ]
  },
  {
   "cell_type": "code",
   "execution_count": 72,
   "id": "7c83efc9",
   "metadata": {},
   "outputs": [
    {
     "name": "stdout",
     "output_type": "stream",
     "text": [
      "+--------------------+--------------------+------------------------+\n",
      "|         primaryName|   primaryProfession|primaryName LIKE %James%|\n",
      "+--------------------+--------------------+------------------------+\n",
      "|      David Duchovny|actor,producer,di...|                   false|\n",
      "|         Ossie Davis|actor,writer,dire...|                   false|\n",
      "|Jennifer Love Hewitt|actress,producer,...|                   false|\n",
      "|       Martin Landau|actor,producer,mi...|                   false|\n",
      "|       Kyra Sedgwick|actress,producer,...|                   false|\n",
      "|       Binnie Barnes|actress,soundtrac...|                   false|\n",
      "|       Sheena Easton|  actress,soundtrack|                   false|\n",
      "|     James Wong Howe|cinematographer,c...|                    true|\n",
      "|     Edvin Adolphson|actor,director,so...|                   false|\n",
      "|Nusrat Fateh Ali ...|soundtrack,music_...|                   false|\n",
      "|       David Jackson|director,writer,p...|                   false|\n",
      "|        Larry Lerner|assistant_directo...|                   false|\n",
      "|    Pedro de Cordoba|               actor|                   false|\n",
      "|    Anne-Marie Blanc|             actress|                   false|\n",
      "|          J.A. Steel|writer,director,p...|                   false|\n",
      "+--------------------+--------------------+------------------------+\n",
      "only showing top 15 rows\n",
      "\n"
     ]
    }
   ],
   "source": [
    "name_basic.select(\"primaryName\", \"primaryProfession\", name_basic.primaryName.like(\"%James%\")).show(15)"
   ]
  },
  {
   "cell_type": "markdown",
   "id": "5bb7569c",
   "metadata": {},
   "source": [
    "*startswith* scant den beginnenden Kontext auf ein definiertes Kriterium.</br>\n",
    "*endswith* verarbeitet parallel den selben Prozess nur mit den letzten Kontext.</br>\n",
    "**Note**: Beide Funktionen sind Case-Sensitive!"
   ]
  },
  {
   "cell_type": "code",
   "execution_count": 73,
   "id": "0d6f4d38",
   "metadata": {},
   "outputs": [
    {
     "name": "stdout",
     "output_type": "stream",
     "text": [
      "+--------------------+--------------------+------------------------------------+\n",
      "|         primaryName|   primaryProfession|startswith(primaryProfession, actor)|\n",
      "+--------------------+--------------------+------------------------------------+\n",
      "|      David Duchovny|actor,producer,di...|                                true|\n",
      "|         Ossie Davis|actor,writer,dire...|                                true|\n",
      "|Jennifer Love Hewitt|actress,producer,...|                               false|\n",
      "|       Martin Landau|actor,producer,mi...|                                true|\n",
      "|       Kyra Sedgwick|actress,producer,...|                               false|\n",
      "+--------------------+--------------------+------------------------------------+\n",
      "only showing top 5 rows\n",
      "\n",
      "+--------------------+--------------------+------------------------------------------+\n",
      "|         primaryName|   primaryProfession|endswith(primaryProfession, miscellaneous)|\n",
      "+--------------------+--------------------+------------------------------------------+\n",
      "|      David Duchovny|actor,producer,di...|                                     false|\n",
      "|         Ossie Davis|actor,writer,dire...|                                     false|\n",
      "|Jennifer Love Hewitt|actress,producer,...|                                     false|\n",
      "|       Martin Landau|actor,producer,mi...|                                      true|\n",
      "|       Kyra Sedgwick|actress,producer,...|                                     false|\n",
      "+--------------------+--------------------+------------------------------------------+\n",
      "only showing top 5 rows\n",
      "\n"
     ]
    }
   ],
   "source": [
    "name_basic.select(\"primaryName\", \"primaryProfession\", name_basic.primaryProfession.startswith(\"actor\")).show(5)\n",
    "name_basic.select(\"primaryName\", \"primaryProfession\", name_basic.primaryProfession.endswith(\"miscellaneous\")).show(5)"
   ]
  },
  {
   "cell_type": "markdown",
   "id": "7b3e0c29",
   "metadata": {},
   "source": [
    "Die *substr* Operation extrahiert den Text innerhalb eines vordefinierten Index."
   ]
  },
  {
   "cell_type": "code",
   "execution_count": 74,
   "id": "9e5b9770",
   "metadata": {},
   "outputs": [
    {
     "name": "stdout",
     "output_type": "stream",
     "text": [
      "+-----------+\n",
      "|primaryName|\n",
      "+-----------+\n",
      "|        Dav|\n",
      "|        Oss|\n",
      "|        Jen|\n",
      "|        Mar|\n",
      "|        Kyr|\n",
      "+-----------+\n",
      "only showing top 5 rows\n",
      "\n",
      "+-----------+\n",
      "|primaryName|\n",
      "+-----------+\n",
      "|     vid Du|\n",
      "|     sie Da|\n",
      "|     nnifer|\n",
      "|     rtin L|\n",
      "|     ra Sed|\n",
      "+-----------+\n",
      "only showing top 5 rows\n",
      "\n",
      "+-----------+\n",
      "|primaryName|\n",
      "+-----------+\n",
      "|     David |\n",
      "|     Ossie |\n",
      "|     Jennif|\n",
      "|     Martin|\n",
      "|     Kyra S|\n",
      "+-----------+\n",
      "only showing top 5 rows\n",
      "\n"
     ]
    }
   ],
   "source": [
    "name_basic.select(name_basic.primaryName.substr(1, 3).alias(\"primaryName\")).show(5)\n",
    "name_basic.select(name_basic.primaryName.substr(3, 6).alias(\"primaryName\")).show(5)\n",
    "name_basic.select(name_basic.primaryName.substr(1, 6).alias(\"primaryName\")).show(5)"
   ]
  },
  {
   "cell_type": "markdown",
   "id": "e0af4e58",
   "metadata": {},
   "source": [
    "Anhand folgender Beispiele werden die *Add*, *Update* und *Remove* Funktionen genauer aufgezeigt."
   ]
  },
  {
   "cell_type": "code",
   "execution_count": 17,
   "id": "337ae915",
   "metadata": {},
   "outputs": [
    {
     "data": {
      "text/plain": [
       "DataFrame[nconst: string, primaryName: string, birthYear: string, deathYear: string, primaryProfession: string, knownForTitles: string, new_column: string]"
      ]
     },
     "metadata": {},
     "output_type": "display_data"
    }
   ],
   "source": [
    "from pyspark.sql.functions import lit\n",
    "name_basic = name_basic.withColumn(\"new_column\", lit(\"This is a new column\"))\n",
    "\n",
    "display(name_basic)"
   ]
  },
  {
   "cell_type": "code",
   "execution_count": 77,
   "id": "8b1169bf",
   "metadata": {},
   "outputs": [
    {
     "data": {
      "text/plain": [
       "DataFrame[nconst: string, Name: string, birthYear: string, deathYear: string, primaryProfession: string, knownForTitles: string, new_column: string]"
      ]
     },
     "metadata": {},
     "output_type": "display_data"
    }
   ],
   "source": [
    "name_basic = name_basic.withColumnRenamed('primaryName', 'Name')\n",
    "\n",
    "display(name_basic)"
   ]
  },
  {
   "cell_type": "code",
   "execution_count": 82,
   "id": "2fe6e7d2",
   "metadata": {},
   "outputs": [
    {
     "data": {
      "text/plain": [
       "DataFrame[nconst: string, Name: string, birthYear: string, deathYear: string, primaryProfession: string, knownForTitles: string]"
      ]
     },
     "metadata": {},
     "output_type": "display_data"
    }
   ],
   "source": [
    "name_basic = name_basic.drop(\"new_column\")\n",
    "#name_basic.drop(name_basic.new_column).show()\n",
    "\n",
    "display(name_basic)"
   ]
  },
  {
   "cell_type": "markdown",
   "id": "12495fc3",
   "metadata": {},
   "source": [
    "Im folgenden werden diverse Funktionstypen aufgeführt, um Daten genauer zu inspizieren."
   ]
  },
  {
   "cell_type": "code",
   "execution_count": 83,
   "id": "4ba32189",
   "metadata": {},
   "outputs": [
    {
     "data": {
      "text/plain": [
       "[('nconst', 'string'),\n",
       " ('Name', 'string'),\n",
       " ('birthYear', 'string'),\n",
       " ('deathYear', 'string'),\n",
       " ('primaryProfession', 'string'),\n",
       " ('knownForTitles', 'string')]"
      ]
     },
     "execution_count": 83,
     "metadata": {},
     "output_type": "execute_result"
    }
   ],
   "source": [
    "# Returns dataframe column names and data types\n",
    "name_basic.dtypes"
   ]
  },
  {
   "cell_type": "code",
   "execution_count": 85,
   "id": "7be56070",
   "metadata": {},
   "outputs": [
    {
     "data": {
      "text/plain": [
       "['nconst',\n",
       " 'Name',\n",
       " 'birthYear',\n",
       " 'deathYear',\n",
       " 'primaryProfession',\n",
       " 'knownForTitles']"
      ]
     },
     "execution_count": 85,
     "metadata": {},
     "output_type": "execute_result"
    }
   ],
   "source": [
    "# Displays the content of dataframe\n",
    "    #name_basic.show()\n",
    "    \n",
    "# Return first n rows\n",
    "    #name_basic.head()\n",
    "    \n",
    "# Returns first row\n",
    "    #name_basic.first()\n",
    "    \n",
    "# Return first n rows\n",
    "    #name_basic.take(5)\n",
    "    \n",
    "# Returns columns of dataframe\n",
    "name_basic.columns\n"
   ]
  },
  {
   "cell_type": "code",
   "execution_count": 88,
   "id": "4c67b114",
   "metadata": {},
   "outputs": [
    {
     "data": {
      "text/plain": [
       "12126677"
      ]
     },
     "execution_count": 88,
     "metadata": {},
     "output_type": "execute_result"
    }
   ],
   "source": [
    "# Counts the number of rows in dataframe\n",
    "name_basic.count()"
   ]
  },
  {
   "cell_type": "code",
   "execution_count": 89,
   "id": "d73affb2",
   "metadata": {},
   "outputs": [
    {
     "data": {
      "text/plain": [
       "12126677"
      ]
     },
     "execution_count": 89,
     "metadata": {},
     "output_type": "execute_result"
    }
   ],
   "source": [
    "# Counts the number of distinct rows in dataframe\n",
    "name_basic.distinct().count()\n",
    "\n",
    "# Gleiches Ergebnis wie der obrige Befehl, da alle Duplikate bereits entfernt wurden. Daher sind alle Zeilen nur noch einmalig vorhanden"
   ]
  },
  {
   "cell_type": "code",
   "execution_count": 91,
   "id": "c6e26d66",
   "metadata": {},
   "outputs": [
    {
     "name": "stdout",
     "output_type": "stream",
     "text": [
      "== Physical Plan ==\n",
      "AdaptiveSparkPlan isFinalPlan=false\n",
      "+- HashAggregate(keys=[primaryName#620, knownForTitles#624, birthYear#621, nconst#619, deathYear#622, primaryProfession#623], functions=[])\n",
      "   +- Exchange hashpartitioning(primaryName#620, knownForTitles#624, birthYear#621, nconst#619, deathYear#622, primaryProfession#623, 200), ENSURE_REQUIREMENTS, [plan_id=1322]\n",
      "      +- HashAggregate(keys=[primaryName#620, knownForTitles#624, birthYear#621, nconst#619, deathYear#622, primaryProfession#623], functions=[])\n",
      "         +- FileScan csv [nconst#619,primaryName#620,birthYear#621,deathYear#622,primaryProfession#623,knownForTitles#624] Batched: false, DataFilters: [], Format: CSV, Location: InMemoryFileIndex(1 paths)[file:/home/jovyan/name_basic.tsv], PartitionFilters: [], PushedFilters: [], ReadSchema: struct<nconst:string,primaryName:string,birthYear:string,deathYear:string,primaryProfession:strin...\n",
      "\n",
      "\n"
     ]
    }
   ],
   "source": [
    "# Prints plans including physical and logical\n",
    "name_basic.explain()"
   ]
  },
  {
   "cell_type": "code",
   "execution_count": 92,
   "id": "6eb15942",
   "metadata": {},
   "outputs": [
    {
     "name": "stdout",
     "output_type": "stream",
     "text": [
      "+-------+------------------+\n",
      "|summary|         birthYear|\n",
      "+-------+------------------+\n",
      "|  count|          12126677|\n",
      "|   mean|1952.2512455666272|\n",
      "| stddev| 34.84414710193421|\n",
      "|    min|              0004|\n",
      "|    max|                \\N|\n",
      "+-------+------------------+\n",
      "\n"
     ]
    }
   ],
   "source": [
    "# Computes summary statistics\n",
    "name_basic.describe(\"birthYear\").show()"
   ]
  },
  {
   "cell_type": "markdown",
   "id": "fbe5dc4e",
   "metadata": {},
   "source": [
    "Mithilfe der *groupBy()* Funktion können Datensätze anhand eines Spaltennamens zusammengefasst bzw. gruppiert werden."
   ]
  },
  {
   "cell_type": "code",
   "execution_count": 93,
   "id": "b108f1dd",
   "metadata": {},
   "outputs": [
    {
     "name": "stdout",
     "output_type": "stream",
     "text": [
      "+--------------------+-----+\n",
      "|                Name|count|\n",
      "+--------------------+-----+\n",
      "|   Kimberly Cossette|    1|\n",
      "|Billie Greenbaum ...|    1|\n",
      "|          Al Harsten|    1|\n",
      "|     Patricia Hülser|    1|\n",
      "|      Adriana Ionica|    1|\n",
      "|       Cory Jamieson|    1|\n",
      "|          Kelly Jaye|    1|\n",
      "|      Jeffrey Kalmus|    1|\n",
      "|        Richard King|   79|\n",
      "|    Jill Kooyoomjian|    1|\n",
      "+--------------------+-----+\n",
      "only showing top 10 rows\n",
      "\n"
     ]
    }
   ],
   "source": [
    "name_basic.groupBy(\"Name\").count().show(10)"
   ]
  },
  {
   "cell_type": "markdown",
   "id": "a11b563d",
   "metadata": {},
   "source": [
    "Die *filter()* Funktion ist eine Erweiterung der *like* Operation mit dem *%* Charakter.</br>\n",
    "**Note**: Die Funktion ist Case-Sensitive!"
   ]
  },
  {
   "cell_type": "code",
   "execution_count": 94,
   "id": "b8dbffb2",
   "metadata": {},
   "outputs": [
    {
     "name": "stdout",
     "output_type": "stream",
     "text": [
      "+---------+----------------+---------+---------+-----------------+--------------------+\n",
      "|   nconst|            Name|birthYear|deathYear|primaryProfession|      knownForTitles|\n",
      "+---------+----------------+---------+---------+-----------------+--------------------+\n",
      "|nm0003124|Pedro de Cordoba|     1881|     1950|            actor|tt0032245,tt00352...|\n",
      "|nm0008480|   Mohammed Abel|       \\N|       \\N|            actor|           tt0199850|\n",
      "|nm0009732| Yamandú Acevedo|     1963|     2020|            actor|tt0224941,tt02614...|\n",
      "|nm0009929|    Eugene Acker|     1889|     1971|            actor|tt0166832,tt00145...|\n",
      "|nm0010869|    Dallas Adams|     1947|     1991|            actor|tt0056751,tt00700...|\n",
      "+---------+----------------+---------+---------+-----------------+--------------------+\n",
      "only showing top 5 rows\n",
      "\n"
     ]
    }
   ],
   "source": [
    "name_basic.filter(name_basic[\"primaryProfession\"] == 'actor').show(5)"
   ]
  },
  {
   "cell_type": "markdown",
   "id": "2f183a80",
   "metadata": {},
   "source": [
    "Mithilfe des *join()* Befehls können mehrere Collections zu einer logischen zusammengefügt werden. Im nachfolgenden Beispiel, wird die *title_basic* mit der *title_rating* auf die *tconst*-ID verbunden."
   ]
  },
  {
   "cell_type": "code",
   "execution_count": 5,
   "id": "82399b01",
   "metadata": {
    "scrolled": true
   },
   "outputs": [
    {
     "name": "stdout",
     "output_type": "stream",
     "text": [
      "root\n",
      " |-- tconst: string (nullable = true)\n",
      " |-- titleType: string (nullable = true)\n",
      " |-- primaryTitle: string (nullable = true)\n",
      " |-- originalTitle: string (nullable = true)\n",
      " |-- isAdult: string (nullable = true)\n",
      " |-- startYear: string (nullable = true)\n",
      " |-- endYear: string (nullable = true)\n",
      " |-- runtimeMinutes: string (nullable = true)\n",
      " |-- genres: string (nullable = true)\n",
      "\n",
      "root\n",
      " |-- tconst: string (nullable = true)\n",
      " |-- averageRating: double (nullable = true)\n",
      " |-- numVotes: integer (nullable = true)\n",
      "\n"
     ]
    }
   ],
   "source": [
    "# Creates a spark data frame for .tsv \n",
    "title_basic = spark.read.format(\"csv\")\\\n",
    ".option(\"inferSchema\", \"true\")\\\n",
    ".option(\"sep\",\"\\t\")\\\n",
    ".option(\"header\", \"true\")\\\n",
    ".load(\"../movie/title_basic.tsv\")\n",
    "\n",
    "title_basic.printSchema()\n",
    "\n",
    "\n",
    "title_ratings = spark.read.format(\"csv\")\\\n",
    ".option(\"inferSchema\", \"true\")\\\n",
    ".option(\"sep\",\"\\t\")\\\n",
    ".option(\"header\", \"true\")\\\n",
    ".load(\"../movie/title_ratings.tsv\")\n",
    "\n",
    "title_ratings.printSchema()"
   ]
  },
  {
   "cell_type": "code",
   "execution_count": 32,
   "id": "11e728f4",
   "metadata": {},
   "outputs": [],
   "source": [
    "title_combined = title_basic.join(title_ratings,title_basic.tconst ==  title_ratings.tconst,\"inner\").drop(title_basic.tconst)"
   ]
  },
  {
   "cell_type": "code",
   "execution_count": 33,
   "id": "11e0dec3",
   "metadata": {},
   "outputs": [],
   "source": [
    "title_combined.write.save(\"../movie/title_combined.json\",format=\"json\")"
   ]
  }
 ],
 "metadata": {
  "kernelspec": {
   "display_name": "Python 3 (ipykernel)",
   "language": "python",
   "name": "python3"
  },
  "language_info": {
   "codemirror_mode": {
    "name": "ipython",
    "version": 3
   },
   "file_extension": ".py",
   "mimetype": "text/x-python",
   "name": "python",
   "nbconvert_exporter": "python",
   "pygments_lexer": "ipython3",
   "version": "3.10.8"
  }
 },
 "nbformat": 4,
 "nbformat_minor": 5
}
