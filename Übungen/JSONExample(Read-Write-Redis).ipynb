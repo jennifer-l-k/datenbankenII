{
 "cells": [
  {
   "cell_type": "code",
   "execution_count": null,
   "id": "cdcb2fa2",
   "metadata": {},
   "outputs": [],
   "source": [
    "import json\n",
    "import redis\n",
    "import pymongo\n",
    "\n",
    "# DB Connections, Mongo then Redis\n",
    "\n",
    "# MONGO\n",
    "MONGODB_URI = \"mongodb://localhost:27017/\"\n",
    "\n",
    "# Connect to your MongoDB\n",
    "mongoclient = pymongo.MongoClient(MONGODB_URI)\n",
    "\n",
    "# select/create database\n",
    "mongodb = mongoclient[\"testdb\"]\n",
    "# select/create collection in database\n",
    "mongoCollection = mongodb[\"testcoll\"]\n",
    "\n",
    "# REDIS\n",
    "r = redis.Redis(host=\"localhost\", port=6379, db=0)\n",
    "\n",
    "\n",
    "# TEST\n",
    "testdict = {\n",
    "    \"hello\": \"world\",\n",
    "    \"temperature\": 7.0,\n",
    "}\n",
    "\n",
    "# Encode testdict to JSON\n",
    "encoded = json.dumps(testdict)\n",
    "\n",
    "# Save in Redis\n",
    "r.set(\"myencoded\", encoded)\n",
    "\n",
    "# Load from Redis\n",
    "mydecoded = json.loads(r.get(\"myencoded\"))\n",
    "\n",
    "print(mydecoded)\n",
    "\n",
    "mongoCollection.insert_one(mydecoded)"
   ]
  }
 ],
 "metadata": {
  "kernelspec": {
   "display_name": "Python 3 (ipykernel)",
   "language": "python",
   "name": "python3"
  },
  "language_info": {
   "codemirror_mode": {
    "name": "ipython",
    "version": 3
   },
   "file_extension": ".py",
   "mimetype": "text/x-python",
   "name": "python",
   "nbconvert_exporter": "python",
   "pygments_lexer": "ipython3",
   "version": "3.10.8"
  }
 },
 "nbformat": 4,
 "nbformat_minor": 5
}
