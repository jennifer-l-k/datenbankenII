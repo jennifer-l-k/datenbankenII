{
 "cells": [
  {
   "cell_type": "code",
   "execution_count": null,
   "id": "d633b327",
   "metadata": {},
   "outputs": [],
   "source": [
    "import redis\n",
    "from datetime import timedelta\n",
    "\n",
    "# client\n",
    "r = redis.Redis(host=\"localhost\", port=6379, db=0)\n",
    "\n",
    "# BASIC\n",
    "\n",
    "# set value\n",
    "r.set(\"key\", \"value\")\n",
    "\n",
    "# mset for python dict\n",
    "r.mset({\"key1\": \"value1\", \"key2\": \"value2\"})\n",
    "\n",
    "# get value\n",
    "value = r.get(\"key\")\n",
    "\n",
    "# check if value exists\n",
    "if r.exists(\"key\"):\n",
    "\tprint(\"key exists\")\n",
    "else:\n",
    "\tprint(\"key does not exist\")\n",
    "\n",
    "# get value and decode as string from UTF-8\n",
    "value = r.get(\"key\").decode(\"utf-8\")\n",
    "\n",
    "# expire value\n",
    "r.expire(\"key\", timedelta(seconds=3))\n",
    "\n",
    "# HASH\n",
    "\n",
    "testdict = {\n",
    "\t\"hash_key1\": \"One\",\n",
    "\t\"hash_key2\": \"Two\",\n",
    "}\n",
    "r.hset(\"key3\", mapping=testdict)\n",
    "\n",
    "# Equivalent\n",
    "#r.hset(\"key3\", \"hash_key1\", \"One\")\n",
    "#r.hset(\"key3\", \"hash_key2\", \"Two\")\n",
    "\n",
    "print(r.hget(\"key3\", \"hash_key1\").decode(\"utf-8\"))\n",
    "\n",
    "# PUB/SUB\n",
    "\n",
    "sub = r.pubsub()\n",
    "# get messages for topic\n",
    "sub.subscribe(\"topic\")"
   ]
  }
 ],
 "metadata": {
  "kernelspec": {
   "display_name": "Python 3 (ipykernel)",
   "language": "python",
   "name": "python3"
  },
  "language_info": {
   "codemirror_mode": {
    "name": "ipython",
    "version": 3
   },
   "file_extension": ".py",
   "mimetype": "text/x-python",
   "name": "python",
   "nbconvert_exporter": "python",
   "pygments_lexer": "ipython3",
   "version": "3.10.8"
  }
 },
 "nbformat": 4,
 "nbformat_minor": 5
}
