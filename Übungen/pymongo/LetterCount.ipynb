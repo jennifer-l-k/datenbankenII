{
 "cells": [
  {
   "cell_type": "code",
   "execution_count": 53,
   "id": "ae372824-3b69-4420-8e3e-45ac86dc93fb",
   "metadata": {},
   "outputs": [
    {
     "name": "stdout",
     "output_type": "stream",
     "text": [
      "+-----------+-----+\n",
      "|only_letter|count|\n",
      "+-----------+-----+\n",
      "|          a|26756|\n",
      "|          b| 5027|\n",
      "|          c| 9275|\n",
      "|          d|16868|\n",
      "|          e|46063|\n",
      "|          f| 8734|\n",
      "|          g| 5976|\n",
      "|          h|19757|\n",
      "|          i|24615|\n",
      "|          j|  504|\n",
      "|          k| 1755|\n",
      "|          l|12747|\n",
      "|          m|10606|\n",
      "|          n|24378|\n",
      "|          o|25228|\n",
      "|          p| 6146|\n",
      "|          q|  324|\n",
      "|          r|20858|\n",
      "|          s|21188|\n",
      "|          t|30409|\n",
      "|          u|10414|\n",
      "|          v| 3833|\n",
      "|          w| 7640|\n",
      "|          x|  677|\n",
      "|          y| 7918|\n",
      "|          z|  215|\n",
      "+-----------+-----+\n",
      "\n"
     ]
    }
   ],
   "source": [
    "from pyspark.sql import SparkSession\n",
    "import pyspark.sql.functions as F\n",
    "\n",
    "# Neue SparkSession erstellen\n",
    "spark = SparkSession.builder \\\n",
    "      .master(\"local[1]\") \\\n",
    "      .appName(\"word count\") \\\n",
    "      .getOrCreate() \n",
    "\n",
    "results = (\n",
    "    # Einlesen der .csv Datei\n",
    "    spark.read.text(\"frankenstein.txt\")\n",
    "    # DESIGN: Nach jedem Buchstaben ein split durchführen\n",
    "    .select(F.split(F.col(\"value\"), \"\").alias(\"letters\"))\n",
    "    # Ausführung eines explodes, umm die einzelnen Arrays als jeweilige Zeile ausgeben\n",
    "    .select(F.explode(F.col(\"letters\")).alias(\"letter\"))\n",
    "    # DESIGN: Jeden Buchstaben Klein schreiben\n",
    "    .select(F.lower(F.col(\"letter\")).alias(\"letter_lower\"))\n",
    "    # Mittels eines Regex nur die Buchstaben herausfiltern\n",
    "    # DESIGN: Zahlen und Sonderzeichen werden außer Acht gelassen\n",
    "    .select(F.regexp_extract(F.col(\"letter_lower\"), \"[a-z]*\", 0).alias(\"only_letter\"))\n",
    "    # DESIGN: Sobald das Leerzeichen erscheint, wird dieses nicht mit übermittelt\n",
    "    .where(F.col(\"only_letter\") != \"\")\n",
    "    .groupby(F.col(\"only_letter\"))\n",
    "    .count()\n",
    ")\n",
    "\n",
    "results.orderBy(\"only_letter\", ascending=True).show(27)\n",
    "#results.coalesce(1).write.csv(\"./results_single_partition.csv\")"
   ]
  }
 ],
 "metadata": {
  "kernelspec": {
   "display_name": "Python 3 (ipykernel)",
   "language": "python",
   "name": "python3"
  },
  "language_info": {
   "codemirror_mode": {
    "name": "ipython",
    "version": 3
   },
   "file_extension": ".py",
   "mimetype": "text/x-python",
   "name": "python",
   "nbconvert_exporter": "python",
   "pygments_lexer": "ipython3",
   "version": "3.10.8"
  }
 },
 "nbformat": 4,
 "nbformat_minor": 5
}
