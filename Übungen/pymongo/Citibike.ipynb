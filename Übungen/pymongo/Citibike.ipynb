{
 "cells": [
  {
   "cell_type": "code",
   "execution_count": 1,
   "id": "dd9a485d-df79-4300-8c58-5fb5b6520388",
   "metadata": {},
   "outputs": [
    {
     "name": "stderr",
     "output_type": "stream",
     "text": [
      "Setting default log level to \"WARN\".\n",
      "To adjust logging level use sc.setLogLevel(newLevel). For SparkR, use setLogLevel(newLevel).\n"
     ]
    },
    {
     "name": "stdout",
     "output_type": "stream",
     "text": [
      "22/12/20 18:34:14 WARN NativeCodeLoader: Unable to load native-hadoop library for your platform... using builtin-java classes where applicable\n"
     ]
    }
   ],
   "source": [
    "# Import SparkSession\n",
    "from pyspark.sql import SparkSession\n",
    "\n",
    "# Create SparkSession \n",
    "spark = SparkSession.builder \\\n",
    "      .master(\"local[1]\") \\\n",
    "      .appName(\"word count\") \\\n",
    "      .getOrCreate() "
   ]
  },
  {
   "cell_type": "code",
   "execution_count": 2,
   "id": "19a9f0ef-3eb1-48ee-ba70-a0ba2a959fee",
   "metadata": {},
   "outputs": [
    {
     "data": {
      "text/html": [
       "\n",
       "            <div>\n",
       "                <p><b>SparkSession - in-memory</b></p>\n",
       "                \n",
       "        <div>\n",
       "            <p><b>SparkContext</b></p>\n",
       "\n",
       "            <p><a href=\"http://localhost:4040\">Spark UI</a></p>\n",
       "\n",
       "            <dl>\n",
       "              <dt>Version</dt>\n",
       "                <dd><code>v3.3.1</code></dd>\n",
       "              <dt>Master</dt>\n",
       "                <dd><code>local[1]</code></dd>\n",
       "              <dt>AppName</dt>\n",
       "                <dd><code>word count</code></dd>\n",
       "            </dl>\n",
       "        </div>\n",
       "        \n",
       "            </div>\n",
       "        "
      ],
      "text/plain": [
       "<pyspark.sql.session.SparkSession at 0x7f029ff504c0>"
      ]
     },
     "execution_count": 2,
     "metadata": {},
     "output_type": "execute_result"
    }
   ],
   "source": [
    "spark"
   ]
  },
  {
   "cell_type": "code",
   "execution_count": 49,
   "id": "26420abb-6887-4216-a931-9f575c2b1c50",
   "metadata": {},
   "outputs": [],
   "source": [
    "ride=spark.read.option(\"header\",\"true\").csv(\"201709-citibike-tripdata.csv\")"
   ]
  },
  {
   "cell_type": "code",
   "execution_count": 50,
   "id": "a6c7390a-d53b-4e42-99f9-414c45825ec9",
   "metadata": {},
   "outputs": [
    {
     "data": {
      "text/plain": [
       "Row(tripduration='362', starttime='2017-09-01 00:00:17', stoptime='2017-09-01 00:06:19', start station id='3331', start station name='Riverside Dr & W 104 St', start station latitude='40.8013434', start station longitude='-73.9711457439', end station id='3328', end station name='W 100 St & Manhattan Ave', end station latitude='40.795', end station longitude='-73.9645', bikeid='14530', usertype='Subscriber', birth year='1993', gender='1')"
      ]
     },
     "execution_count": 50,
     "metadata": {},
     "output_type": "execute_result"
    }
   ],
   "source": [
    "# Ausgabe der Spaltennamen\n",
    "ride.head()"
   ]
  },
  {
   "cell_type": "code",
   "execution_count": 51,
   "id": "defa11bc-b8c1-49cf-8e5e-cc1e5ad8c21c",
   "metadata": {},
   "outputs": [
    {
     "name": "stdout",
     "output_type": "stream",
     "text": [
      "+------------+-------------------+-------------------+----------------+--------------------+----------------------+-----------------------+--------------+--------------------+--------------------+---------------------+------+----------+----------+------+\n",
      "|tripduration|          starttime|           stoptime|start station id|  start station name|start station latitude|start station longitude|end station id|    end station name|end station latitude|end station longitude|bikeid|  usertype|birth year|gender|\n",
      "+------------+-------------------+-------------------+----------------+--------------------+----------------------+-----------------------+--------------+--------------------+--------------------+---------------------+------+----------+----------+------+\n",
      "|         362|2017-09-01 00:00:17|2017-09-01 00:06:19|            3331|Riverside Dr & W ...|            40.8013434|         -73.9711457439|          3328|W 100 St & Manhat...|              40.795|             -73.9645| 14530|Subscriber|      1993|     1|\n",
      "|         188|2017-09-01 00:00:21|2017-09-01 00:03:30|            3101|N 12 St & Bedford...|           40.72079821|           -73.95484712|          3100|Nassau Ave & Newe...|  40.724812564400175|   -73.94752621650696| 15475|Subscriber|      1988|     1|\n",
      "|         305|2017-09-01 00:00:25|2017-09-01 00:05:30|            3140|     1 Ave & E 78 St|           40.77140426|            -73.9535166|          3141|     1 Ave & E 68 St|         40.76500525|         -73.95818491| 30346|Subscriber|      1969|     1|\n",
      "|         223|2017-09-01 00:00:52|2017-09-01 00:04:36|             236| St Marks Pl & 2 Ave|            40.7284186|           -73.98713956|           473|Rivington St & Ch...|         40.72110063|          -73.9919254| 28056|Subscriber|      1993|     1|\n",
      "|         758|2017-09-01 00:01:01|2017-09-01 00:13:40|            3427|Lafayette St & Je...|     40.72430527250332|     -73.99600982666016|          3431|     E 35 St & 3 Ave|           40.746524|           -73.977885| 25413|Subscriber|      1987|     1|\n",
      "+------------+-------------------+-------------------+----------------+--------------------+----------------------+-----------------------+--------------+--------------------+--------------------+---------------------+------+----------+----------+------+\n",
      "only showing top 5 rows\n",
      "\n"
     ]
    }
   ],
   "source": [
    "# Ausgabe der ersten Zeilen der .csv Datei\n",
    "ride.show(5)"
   ]
  },
  {
   "cell_type": "code",
   "execution_count": 58,
   "id": "5d588dc6-7158-463e-b1b8-6a6ab22fe18f",
   "metadata": {},
   "outputs": [
    {
     "name": "stderr",
     "output_type": "stream",
     "text": [
      "[Stage 74:======================================>                   (2 + 1) / 3]\r"
     ]
    },
    {
     "name": "stdout",
     "output_type": "stream",
     "text": [
      "+----------------------------+-----+\n",
      "|start station name          |count|\n",
      "+----------------------------+-----+\n",
      "|10 St & 5 Ave               |713  |\n",
      "|45 Rd & 11 St               |1052 |\n",
      "|N 8 St & Driggs Ave         |3698 |\n",
      "|Dean St & Hoyt St           |1046 |\n",
      "|Berkeley Pl & 6 Ave         |951  |\n",
      "|W 87 St  & Amsterdam Ave    |2143 |\n",
      "|E 91 St & 2 Ave             |2183 |\n",
      "|Bank St & Hudson St         |4165 |\n",
      "|Central Park West & W 72 St |5811 |\n",
      "|Meserole Ave & Manhattan Ave|2098 |\n",
      "+----------------------------+-----+\n",
      "only showing top 10 rows\n",
      "\n"
     ]
    },
    {
     "name": "stderr",
     "output_type": "stream",
     "text": [
      "                                                                                \r"
     ]
    }
   ],
   "source": [
    "# Gruppierung nach den gestarteten Stationsnamen und diese hoch zählen\n",
    "from pyspark.sql.functions import desc\n",
    "ride.groupBy(\"start station name\").count().show(10, truncate=False)\n",
    "#ride.groupBy(\"start station name\").count().sort(desc(\"count\")).show(10, truncate=False)"
   ]
  },
  {
   "cell_type": "code",
   "execution_count": 43,
   "id": "f6d39efa-2eec-4e45-b636-d5f2bb6b0844",
   "metadata": {},
   "outputs": [
    {
     "name": "stderr",
     "output_type": "stream",
     "text": [
      "                                                                                \r"
     ]
    }
   ],
   "source": [
    "# Ergebnis abspeichern in einer .csv Datei\n",
    "ride.coalesce(1).write.csv(\"abgehendeFahrten\")"
   ]
  }
 ],
 "metadata": {
  "kernelspec": {
   "display_name": "Python 3 (ipykernel)",
   "language": "python",
   "name": "python3"
  },
  "language_info": {
   "codemirror_mode": {
    "name": "ipython",
    "version": 3
   },
   "file_extension": ".py",
   "mimetype": "text/x-python",
   "name": "python",
   "nbconvert_exporter": "python",
   "pygments_lexer": "ipython3",
   "version": "3.10.8"
  }
 },
 "nbformat": 4,
 "nbformat_minor": 5
}
