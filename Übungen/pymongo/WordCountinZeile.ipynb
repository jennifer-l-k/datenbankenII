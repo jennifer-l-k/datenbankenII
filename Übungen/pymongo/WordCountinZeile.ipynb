{
 "cells": [
  {
   "cell_type": "markdown",
   "id": "c558fbee",
   "metadata": {},
   "source": [
    "# Dies ist der Klausurtest\n",
    "Aufgabe: erstelle ein Programm, das die bereitgestellten CSV-Datei einliest\n",
    "und lowercase am Bildschirm ausgibt, und Zeile f. Zeile mit der jeweiligen Anzahl von Worten\n",
    "in der jeweiligen Zeile am Anfang.\n",
    "Bsp: Die Zeile \"hEllo World\" soll folgendermassen am Bildschirm ausgegeben werden:\n",
    "\n",
    "2 hello world"
   ]
  },
  {
   "cell_type": "code",
   "execution_count": 3,
   "id": "f4eddd2d-940d-47a1-b49e-cede0fed6ab0",
   "metadata": {},
   "outputs": [
    {
     "name": "stderr",
     "output_type": "stream",
     "text": [
      "Setting default log level to \"WARN\".\n",
      "To adjust logging level use sc.setLogLevel(newLevel). For SparkR, use setLogLevel(newLevel).\n"
     ]
    },
    {
     "name": "stdout",
     "output_type": "stream",
     "text": [
      "22/12/19 10:12:53 WARN NativeCodeLoader: Unable to load native-hadoop library for your platform... using builtin-java classes where applicable\n"
     ]
    }
   ],
   "source": [
    "from pyspark.sql import SparkSession\n",
    "\n",
    "# Create SparkSession\n",
    "spark = SparkSession.builder\\\n",
    "    .master(\"local[1]\")\\\n",
    "    .appName(\"Datenbanken mit Spark\")\\\n",
    "    .getOrCreate() # getOrCreate liefert existierende Session, wenn es schon eine gibt"
   ]
  },
  {
   "cell_type": "code",
   "execution_count": 4,
   "id": "759e4969-3c34-44c7-a98f-850ceb25693e",
   "metadata": {},
   "outputs": [
    {
     "data": {
      "text/html": [
       "\n",
       "            <div>\n",
       "                <p><b>SparkSession - in-memory</b></p>\n",
       "                \n",
       "        <div>\n",
       "            <p><b>SparkContext</b></p>\n",
       "\n",
       "            <p><a href=\"http://localhost:4040\">Spark UI</a></p>\n",
       "\n",
       "            <dl>\n",
       "              <dt>Version</dt>\n",
       "                <dd><code>v3.3.1</code></dd>\n",
       "              <dt>Master</dt>\n",
       "                <dd><code>local[1]</code></dd>\n",
       "              <dt>AppName</dt>\n",
       "                <dd><code>Datenbanken mit Spark</code></dd>\n",
       "            </dl>\n",
       "        </div>\n",
       "        \n",
       "            </div>\n",
       "        "
      ],
      "text/plain": [
       "<pyspark.sql.session.SparkSession at 0x7f42f2035ff0>"
      ]
     },
     "execution_count": 4,
     "metadata": {},
     "output_type": "execute_result"
    }
   ],
   "source": [
    "spark"
   ]
  },
  {
   "cell_type": "code",
   "execution_count": 8,
   "id": "9a99e7f4-b9fc-42b6-94d5-8e548688f774",
   "metadata": {},
   "outputs": [],
   "source": [
    "text = spark.read.text(\"/home/student/Desktop/Klausurtest.csv\")"
   ]
  },
  {
   "cell_type": "code",
   "execution_count": 7,
   "id": "c6f7677c-e621-4409-81b2-2be7af1b3f30",
   "metadata": {},
   "outputs": [
    {
     "data": {
      "text/plain": [
       "DataFrame[value: string]"
      ]
     },
     "execution_count": 7,
     "metadata": {},
     "output_type": "execute_result"
    }
   ],
   "source": [
    "text"
   ]
  },
  {
   "cell_type": "code",
   "execution_count": 15,
   "id": "bd2fbd17-c0ab-4ac1-9b7f-d89372fa9f7a",
   "metadata": {},
   "outputs": [
    {
     "name": "stdout",
     "output_type": "stream",
     "text": [
      "+------------------------------+\n",
      "|value                         |\n",
      "+------------------------------+\n",
      "|5 mal werden Wir noch wach,   |\n",
      "|Heißa dann ist Weihnachtsnacht|\n",
      "+------------------------------+\n",
      "\n"
     ]
    }
   ],
   "source": [
    "text.show(100, truncate=False)"
   ]
  },
  {
   "cell_type": "code",
   "execution_count": 37,
   "id": "4f56e62a-9bbd-4d7e-b39e-f41b320a15bc",
   "metadata": {},
   "outputs": [
    {
     "name": "stdout",
     "output_type": "stream",
     "text": [
      "+-------------------------------------+\n",
      "|Zeile                                |\n",
      "+-------------------------------------+\n",
      "|[, , mal, werden, Wir, noch, wach,, ]|\n",
      "|[Heißa, dann, ist, Weihnachtsnacht]  |\n",
      "+-------------------------------------+\n",
      "\n"
     ]
    }
   ],
   "source": [
    "# DESIGNENTSCHEIDUNG\n",
    "# Nur Wörter ausgegeben werden\n",
    "# Zahlen werden ausgeschlossen\n",
    "# Die Buchstaben können Groß- oder Kleingeschrieben sein\n",
    "import pyspark.sql.functions as F\n",
    "lines = text.select(split(text.value, \"[^a-z,A-Z,ß]\").alias(\"Zeile\"))\n",
    "lines.show(100,truncate=False)"
   ]
  },
  {
   "cell_type": "code",
   "execution_count": 63,
   "id": "f90e5d32-be54-4f78-845d-b26a66286f00",
   "metadata": {},
   "outputs": [
    {
     "name": "stdout",
     "output_type": "stream",
     "text": [
      "+------+-------------------------------------+\n",
      "|Anzahl|Zeile                                |\n",
      "+------+-------------------------------------+\n",
      "|8     |[, , mal, werden, Wir, noch, wach,, ]|\n",
      "|4     |[Heißa, dann, ist, Weihnachtsnacht]  |\n",
      "+------+-------------------------------------+\n",
      "\n"
     ]
    }
   ],
   "source": [
    "# Leerzeichen werden noch mitgezählt!\n",
    "lines = lines.withColumn(\"Anzahl\", F.size(F.col(\"Zeile\")))\n",
    "lines.show(100, truncate=False)"
   ]
  },
  {
   "cell_type": "code",
   "execution_count": 58,
   "id": "44060c46-b482-461f-ab51-9acd181d7096",
   "metadata": {},
   "outputs": [
    {
     "name": "stdout",
     "output_type": "stream",
     "text": [
      "+------+-------------------------------------+\n",
      "|Anzahl|Zeile                                |\n",
      "+------+-------------------------------------+\n",
      "|8     |[, , mal, werden, Wir, noch, wach,, ]|\n",
      "|4     |[Heißa, dann, ist, Weihnachtsnacht]  |\n",
      "+------+-------------------------------------+\n",
      "\n"
     ]
    }
   ],
   "source": [
    "# Spalten vertauschen\n",
    "lines = lines.select(lines.Anzahl, lines.Zeile)\n",
    "lines.show(100, truncate=False)"
   ]
  },
  {
   "cell_type": "code",
   "execution_count": 74,
   "id": "98903e28-aad6-48e1-92d8-846c01342bbe",
   "metadata": {},
   "outputs": [
    {
     "name": "stdout",
     "output_type": "stream",
     "text": [
      "+------+-----------------------------------+\n",
      "|Anzahl|Zeile                              |\n",
      "+------+-----------------------------------+\n",
      "|5     |[mal, werden, Wir, noch, wach,]    |\n",
      "|4     |[Heißa, dann, ist, Weihnachtsnacht]|\n",
      "+------+-----------------------------------+\n",
      "\n"
     ]
    }
   ],
   "source": [
    "# DESIGNENTSCHEIDUNG\n",
    "# Leerzeichen noch entfernen\n",
    "non_empty = lines.select(F.array_remove(F.col(\"Zeile\"), \"\")).withColumnRenamed(\"array_remove(Zeile, )\", \"Zeile\")\n",
    "counted = non_empty.withColumn(\"Anzahl\", F.size(F.col(\"Zeile\")))\n",
    "counted.select(counted.Anzahl, counted.Zeile).show(truncate=False)"
   ]
  }
 ],
 "metadata": {
  "kernelspec": {
   "display_name": "Python 3 (ipykernel)",
   "language": "python",
   "name": "python3"
  },
  "language_info": {
   "codemirror_mode": {
    "name": "ipython",
    "version": 3
   },
   "file_extension": ".py",
   "mimetype": "text/x-python",
   "name": "python",
   "nbconvert_exporter": "python",
   "pygments_lexer": "ipython3",
   "version": "3.10.8"
  }
 },
 "nbformat": 4,
 "nbformat_minor": 5
}
