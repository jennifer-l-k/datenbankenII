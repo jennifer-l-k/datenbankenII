{
 "cells": [
  {
   "cell_type": "code",
   "execution_count": null,
   "id": "f308a54d",
   "metadata": {},
   "outputs": [],
   "source": [
    "import pymongo\n",
    "import time\n",
    "import pprint\n",
    "from bson import ObjectId\n",
    "\n",
    "# BASE\n",
    "\n",
    "MONGODB_URI = \"mongodb://localhost:27017/\"\n",
    "\n",
    "# Connect to your MongoDB\n",
    "client = pymongo.MongoClient(MONGODB_URI)\n",
    "\n",
    "# select/create database\n",
    "db = client[\"testdb\"]\n",
    "\n",
    "# select/create collection in database\n",
    "coll = db[\"testcoll\"]\n",
    "\n",
    "# set value\n",
    "coll.insert_one({\"key1\": \"value1\", \"key2\": \"value2\"})\n",
    "#coll.insert_many for array of dicts\n",
    "\n",
    "# get value with condition key1 = value1\n",
    "coll.find_one({\"key1\": \"value1\"})\n",
    "\n",
    "# get values with condition key1 = value1 (returns an iterator)\n",
    "for doc in coll.find({\"key1\": \"value1\"}):\n",
    "    print(doc)\n",
    "\n",
    "# get distinct keys\n",
    "coll.distinct(\"key1\")\n",
    "\n",
    "coll.count_documents({\"key1\": \"value1\"})\n",
    "\n",
    "# make update\n",
    "coll.update_one(\n",
    "    { \"key1\": \"value1\" },\n",
    "    { \"$set\": { \"key2\": \"value2\" }}\n",
    ")\n",
    "\n"
   ]
  }
 ],
 "metadata": {
  "kernelspec": {
   "display_name": "Python 3 (ipykernel)",
   "language": "python",
   "name": "python3"
  },
  "language_info": {
   "codemirror_mode": {
    "name": "ipython",
    "version": 3
   },
   "file_extension": ".py",
   "mimetype": "text/x-python",
   "name": "python",
   "nbconvert_exporter": "python",
   "pygments_lexer": "ipython3",
   "version": "3.10.8"
  }
 },
 "nbformat": 4,
 "nbformat_minor": 5
}
