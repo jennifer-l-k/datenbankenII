{
 "cells": [
  {
   "cell_type": "markdown",
   "id": "f96e56df",
   "metadata": {},
   "source": [
    "# Schema Design\n",
    "## Aufgabe 1 - Tutorial MongoDB mit CRUD-Prinzip\n",
    "\n",
    "Using: https://towardsdatascience.com/using-mongo-databases-in-python-e93bc3b6ff5f"
   ]
  },
  {
   "cell_type": "code",
   "execution_count": 1,
   "id": "b8e01ea9",
   "metadata": {},
   "outputs": [],
   "source": [
    "import pymongo\n",
    "\n",
    "#Connection to a Mongo client\n",
    "client = pymongo.MongoClient(\"mongodb://localhost:27017/\")"
   ]
  },
  {
   "cell_type": "markdown",
   "id": "89d26e67",
   "metadata": {},
   "source": [
    "Create a new database"
   ]
  },
  {
   "cell_type": "code",
   "execution_count": 3,
   "id": "168c833d",
   "metadata": {},
   "outputs": [],
   "source": [
    "db = client[\"med_data\"]"
   ]
  },
  {
   "cell_type": "markdown",
   "id": "4ff1f413",
   "metadata": {},
   "source": [
    "Create a new collection (like a table in a relation database)</br>\n",
    "**Note**: Collections and databases are created when the first document is inserted into them!"
   ]
  },
  {
   "cell_type": "code",
   "execution_count": 4,
   "id": "16ad41b9",
   "metadata": {},
   "outputs": [],
   "source": [
    "my_collection = db[\"patient_data\"]"
   ]
  },
  {
   "cell_type": "markdown",
   "id": "013b25c6",
   "metadata": {},
   "source": [
    "Insert into my_collection a new document"
   ]
  },
  {
   "cell_type": "code",
   "execution_count": 7,
   "id": "ea249a6e",
   "metadata": {},
   "outputs": [],
   "source": [
    "patient_record = {\n",
    "   \"Name\": \"Maureen Skinner\",\n",
    "   \"Age\": 87,\n",
    "   \"Sex\": \"F\",\n",
    "   \"Blood pressure\": [{\"sys\": 156}, {\"dia\": 82}],\n",
    "   \"Heart rate\": 82\n",
    "}"
   ]
  },
  {
   "cell_type": "markdown",
   "id": "ca5cd92e",
   "metadata": {},
   "source": [
    "Add the document patient_record into database collection by using *insert_one*"
   ]
  },
  {
   "cell_type": "code",
   "execution_count": 8,
   "id": "6a6ca88d",
   "metadata": {},
   "outputs": [
    {
     "data": {
      "text/plain": [
       "<pymongo.results.InsertOneResult at 0x7fc41a3b36a0>"
      ]
     },
     "execution_count": 8,
     "metadata": {},
     "output_type": "execute_result"
    }
   ],
   "source": [
    "my_collection.insert_one(patient_record)"
   ]
  },
  {
   "cell_type": "markdown",
   "id": "ac7ac2c4",
   "metadata": {},
   "source": [
    "View the content in database collection by using *pprint* for a pretty print output"
   ]
  },
  {
   "cell_type": "code",
   "execution_count": 12,
   "id": "a54d246a",
   "metadata": {},
   "outputs": [
    {
     "name": "stdout",
     "output_type": "stream",
     "text": [
      "{'Age': 87,\n",
      " 'Blood pressure': [{'sys': 156}, {'dia': 82}],\n",
      " 'Heart rate': 82,\n",
      " 'Name': 'Maureen Skinner',\n",
      " 'Sex': 'F',\n",
      " '_id': ObjectId('63821b2f3fadd0edc805faa6')}\n"
     ]
    }
   ],
   "source": [
    "from pprint import pprint\n",
    "for item in my_collection.find():\n",
    "    pprint(item)"
   ]
  },
  {
   "cell_type": "markdown",
   "id": "01ac9209",
   "metadata": {},
   "source": [
    "**Note**: Add multiple documents into database colletion by using *insert_many*"
   ]
  },
  {
   "cell_type": "code",
   "execution_count": 14,
   "id": "c22ca431",
   "metadata": {},
   "outputs": [
    {
     "data": {
      "text/plain": [
       "<pymongo.results.InsertManyResult at 0x7fc3eff3bfd0>"
      ]
     },
     "execution_count": 14,
     "metadata": {},
     "output_type": "execute_result"
    }
   ],
   "source": [
    "patient_records = [\n",
    " {\n",
    "   \"Name\": \"Adam Blythe\",\n",
    "   \"Age\": 55,\n",
    "   \"Sex\": \"M\",\n",
    "   \"Blood pressure\": [{\"sys\": 132}, {\"dia\": 73}],\n",
    "   \"Heart rate\": 73\n",
    " },\n",
    " {\n",
    "   \"Name\": \"Darren Sanders\",\n",
    "   \"Age\": 34,\n",
    "   \"Sex\": \"M\",\n",
    "   \"Blood pressure\": [{\"sys\": 120}, {\"dia\": 70}],\n",
    "   \"Heart rate\": 67\n",
    " },\n",
    " {\n",
    "   \"Name\": \"Sally-Ann Joyce\",\n",
    "   \"Age\": 19,\n",
    "   \"Sex\": \"F\",\n",
    "   \"Blood pressure\": [{\"sys\": 121}, {\"dia\": 72}],\n",
    "   \"Heart rate\": 67\n",
    " }\n",
    "]\n",
    "my_collection.insert_many(patient_records)"
   ]
  },
  {
   "cell_type": "code",
   "execution_count": 15,
   "id": "51ae1817",
   "metadata": {},
   "outputs": [
    {
     "name": "stdout",
     "output_type": "stream",
     "text": [
      "{'Age': 87,\n",
      " 'Blood pressure': [{'sys': 156}, {'dia': 82}],\n",
      " 'Heart rate': 82,\n",
      " 'Name': 'Maureen Skinner',\n",
      " 'Sex': 'F',\n",
      " '_id': ObjectId('63821b2f3fadd0edc805faa6')}\n",
      "{'Age': 55,\n",
      " 'Blood pressure': [{'sys': 132}, {'dia': 73}],\n",
      " 'Heart rate': 73,\n",
      " 'Name': 'Adam Blythe',\n",
      " 'Sex': 'M',\n",
      " '_id': ObjectId('63821d373fadd0edc805faa7')}\n",
      "{'Age': 34,\n",
      " 'Blood pressure': [{'sys': 120}, {'dia': 70}],\n",
      " 'Heart rate': 67,\n",
      " 'Name': 'Darren Sanders',\n",
      " 'Sex': 'M',\n",
      " '_id': ObjectId('63821d373fadd0edc805faa8')}\n",
      "{'Age': 19,\n",
      " 'Blood pressure': [{'sys': 121}, {'dia': 72}],\n",
      " 'Heart rate': 67,\n",
      " 'Name': 'Sally-Ann Joyce',\n",
      " 'Sex': 'F',\n",
      " '_id': ObjectId('63821d373fadd0edc805faa9')}\n"
     ]
    }
   ],
   "source": [
    "from pprint import pprint\n",
    "for item in my_collection.find():\n",
    "    pprint(item)"
   ]
  },
  {
   "cell_type": "markdown",
   "id": "8c3faeb9",
   "metadata": {},
   "source": [
    "Update a single (or multiple) record by using *update_one* (or *update_many*)"
   ]
  },
  {
   "cell_type": "code",
   "execution_count": 16,
   "id": "76459035",
   "metadata": {},
   "outputs": [
    {
     "data": {
      "text/plain": [
       "<pymongo.results.UpdateResult at 0x7fc3ee4edae0>"
      ]
     },
     "execution_count": 16,
     "metadata": {},
     "output_type": "execute_result"
    }
   ],
   "source": [
    "my_collection.update_one({\"Name\": \"Darren Sanders\"}, {\"$set\":{\"Heart rate\": 88}})"
   ]
  },
  {
   "cell_type": "code",
   "execution_count": 19,
   "id": "b0621d95",
   "metadata": {},
   "outputs": [
    {
     "data": {
      "text/plain": [
       "{'_id': ObjectId('63821d373fadd0edc805faa8'),\n",
       " 'Name': 'Darren Sanders',\n",
       " 'Age': 34,\n",
       " 'Sex': 'M',\n",
       " 'Blood pressure': [{'sys': 120}, {'dia': 70}],\n",
       " 'Heart rate': 88}"
      ]
     },
     "execution_count": 19,
     "metadata": {},
     "output_type": "execute_result"
    }
   ],
   "source": [
    "my_collection.find_one({\"Name\": \"Darren Sanders\"})"
   ]
  },
  {
   "cell_type": "markdown",
   "id": "c5043d24",
   "metadata": {},
   "source": [
    "Delete a single (or multiple) record by using delete_one (or delete_many)"
   ]
  },
  {
   "cell_type": "code",
   "execution_count": 20,
   "id": "fa4344fa",
   "metadata": {},
   "outputs": [
    {
     "data": {
      "text/plain": [
       "<pymongo.results.DeleteResult at 0x7fc3ee350220>"
      ]
     },
     "execution_count": 20,
     "metadata": {},
     "output_type": "execute_result"
    }
   ],
   "source": [
    "my_collection.delete_one({\"Name\": \"Sally-Ann Joyce\"})"
   ]
  },
  {
   "cell_type": "code",
   "execution_count": 21,
   "id": "5d0b11a5",
   "metadata": {},
   "outputs": [
    {
     "name": "stdout",
     "output_type": "stream",
     "text": [
      "{'Age': 87,\n",
      " 'Blood pressure': [{'sys': 156}, {'dia': 82}],\n",
      " 'Heart rate': 82,\n",
      " 'Name': 'Maureen Skinner',\n",
      " 'Sex': 'F',\n",
      " '_id': ObjectId('63821b2f3fadd0edc805faa6')}\n",
      "{'Age': 55,\n",
      " 'Blood pressure': [{'sys': 132}, {'dia': 73}],\n",
      " 'Heart rate': 73,\n",
      " 'Name': 'Adam Blythe',\n",
      " 'Sex': 'M',\n",
      " '_id': ObjectId('63821d373fadd0edc805faa7')}\n",
      "{'Age': 34,\n",
      " 'Blood pressure': [{'sys': 120}, {'dia': 70}],\n",
      " 'Heart rate': 88,\n",
      " 'Name': 'Darren Sanders',\n",
      " 'Sex': 'M',\n",
      " '_id': ObjectId('63821d373fadd0edc805faa8')}\n"
     ]
    }
   ],
   "source": [
    "from pprint import pprint\n",
    "for item in my_collection.find():\n",
    "    pprint(item)"
   ]
  },
  {
   "cell_type": "markdown",
   "id": "d38a11c1",
   "metadata": {},
   "source": [
    "## Aufgabe 2 - Beispiele für *embedding*, *referencing* & *hybrid*"
   ]
  },
  {
   "cell_type": "markdown",
   "id": "f97c1bf9",
   "metadata": {},
   "source": [
    "1. **Embedding**\n",
    "    - Buchung und Speicherung von Projektzeiten (jedes Projekt stellt eigenes Dokument dar)\n",
    "    - User in einem Helpdesk-System (jeder User stellt eigenes Dokument dar)\n",
    "    - GPS-bezogene Wetterdaten mit Zeitstempel (jeder GPS-Standort stellt eigenes Dokument dar)\n",
    "2. **Referencing**\n",
    "    - Kundendaten mit Referenz auf Persönliche Daten, Freigabeberechtigungen, Bestellungen / Rechnungen, Aufträge, etc.\n",
    "    - Mitarbeiterdaten\n",
    "    - SAP-basierte Systeme\n",
    "3. **Hybrid**\n",
    "    - Netzwerkanalyse in Grafana (Daten aus definierten Zeitraum werden in eigenes Dokument gelegt und ältere Daten referenziert)\n",
    "    - Inventarverwaltung (Auflistung des gesamten Lagerbestandes mit genaueren Information zu jedem Artikel in ausgelagerten Dokumenten)\n",
    "    - Messdaten einer Produktionsmaschine (vgl. Hybrid-Prinzip Netzwerkanalyse)"
   ]
  },
  {
   "cell_type": "markdown",
   "id": "c17d0b0b",
   "metadata": {},
   "source": [
    "## Aufgabe 3 - Evaluieren der Performance zwischen *embedding* und *referencing*"
   ]
  },
  {
   "cell_type": "code",
   "execution_count": null,
   "id": "0f5d3e67",
   "metadata": {},
   "outputs": [],
   "source": []
  },
  {
   "cell_type": "markdown",
   "id": "f1be9c88",
   "metadata": {},
   "source": [
    "## Aufgabe 4 - Arten von Referenzen\n",
    "\n",
    "Using: https://www.mongodb.com/docs/manual/reference/database-references/"
   ]
  },
  {
   "cell_type": "markdown",
   "id": "032c03dd",
   "metadata": {},
   "source": [
    "1. Manual references\n",
    "    - Speichert Primary-Key (typischerweise *_id*-Feld) in ein anderes Dokument, um dieses als Referenz zu verwenden\n",
    "    - Anwendung führt eine zweite Abfrage aus, um das referenzierte Dokument zurückzugeben\n",
    "    - Referenzen sind simple und ausreichend für die meisten Use-Cases\n",
    "    - Verwendung innerhalb einer Collection / Datenbank\n",
    "2. DBRefs\n",
    "    - Referenzen von einen Dokument zu einem anderen unter Verwendung von Feldern des ersten Dokumentes\n",
    "    - Bspw. *_id*, Collection Name, Datenbank Name, etc.\n",
    "    - Verwendung über mehrere Collections / Datenbanken hinaus"
   ]
  },
  {
   "cell_type": "code",
   "execution_count": null,
   "id": "8012ee99",
   "metadata": {},
   "outputs": [],
   "source": []
  }
 ],
 "metadata": {
  "kernelspec": {
   "display_name": "Python 3 (ipykernel)",
   "language": "python",
   "name": "python3"
  },
  "language_info": {
   "codemirror_mode": {
    "name": "ipython",
    "version": 3
   },
   "file_extension": ".py",
   "mimetype": "text/x-python",
   "name": "python",
   "nbconvert_exporter": "python",
   "pygments_lexer": "ipython3",
   "version": "3.10.8"
  }
 },
 "nbformat": 4,
 "nbformat_minor": 5
}
