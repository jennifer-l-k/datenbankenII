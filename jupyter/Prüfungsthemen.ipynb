{
 "cells": [
  {
   "cell_type": "markdown",
   "id": "85f74157",
   "metadata": {},
   "source": [
    "# Notizen zu Prüfungsthemen"
   ]
  },
  {
   "cell_type": "markdown",
   "id": "d8f4f648",
   "metadata": {},
   "source": [
    "## Argumentation\n",
    "\n",
    "- Data Warehouse oder Data Lake\n",
    "    - Datenstruktur\n",
    "    - Beispiel: Ziele eines Unternehmen, etc, = Was benötigen diese?\n",
    "- In-Memory (Spark, Redis) oder On-Disk (Mongo-DB)\n",
    "    - Für welchen Fall wird welche Datenbank benötigt / verwendet?\n",
    "- *Embedding*, *Referencing* oder *Hybrid*\n",
    "    - Einordnung anhand von Beispielen **(aus der ersten Vorlesung)**\n",
    "- (Art der Datenbank-Referenz (Manuel Reference oder DBRefs))\n",
    "- **Berechnung von Speicherbedarf (Netto)**\n",
    "- Aggregation Pipeline oder find()\n",
    "    - Begründung anhand von einem Beispiel\n",
    "    - Beispiel: Review von den aktuellen zehn Ergebnissen = find(), da Lazy\n",
    "- Notwendigkeit von Indicies\n",
    "    - Beispiel: Datenbank *citiebike* = Auslesen der am häufigst verwendeten Routen, um entsprechend mehr Fahrräder zur Verfügung zu stellen"
   ]
  },
  {
   "cell_type": "markdown",
   "id": "092f8ce9",
   "metadata": {},
   "source": [
    "## Genauer Anschauen\n",
    "- Datenbank *citiebike*\n",
    "- Theoriebasierte Fragen auf Moodle\n",
    "- Tafelbild mit Beispielen"
   ]
  },
  {
   "cell_type": "markdown",
   "id": "7ed1c007",
   "metadata": {},
   "source": [
    "## Notes\n",
    "- Unterschied Redis und Spark: Beide In-Memory, aber Spark ist auch auf Cluster anwendbar"
   ]
  },
  {
   "cell_type": "code",
   "execution_count": null,
   "id": "263d9141",
   "metadata": {},
   "outputs": [],
   "source": []
  }
 ],
 "metadata": {
  "kernelspec": {
   "display_name": "Python 3 (ipykernel)",
   "language": "python",
   "name": "python3"
  },
  "language_info": {
   "codemirror_mode": {
    "name": "ipython",
    "version": 3
   },
   "file_extension": ".py",
   "mimetype": "text/x-python",
   "name": "python",
   "nbconvert_exporter": "python",
   "pygments_lexer": "ipython3",
   "version": "3.10.8"
  }
 },
 "nbformat": 4,
 "nbformat_minor": 5
}
